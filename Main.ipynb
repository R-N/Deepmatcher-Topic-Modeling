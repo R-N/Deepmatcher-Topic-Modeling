{
  "nbformat": 4,
  "nbformat_minor": 0,
  "metadata": {
    "colab": {
      "provenance": []
    },
    "kernelspec": {
      "display_name": "Python 3",
      "name": "python3"
    }
  },
  "cells": [
    {
      "cell_type": "code",
      "source": [
        "%load_ext autoreload\n",
        "%autoreload 2"
      ],
      "metadata": {
        "id": "CbrwV4OxmfD5"
      },
      "execution_count": 1,
      "outputs": []
    },
    {
      "cell_type": "code",
      "source": [
        "%cd /content\n",
        "!git clone https://github.com/R-N/Dataset-Obat-Entity-Matching\n",
        "%cd Dataset-Obat-Entity-Matching"
      ],
      "metadata": {
        "colab": {
          "base_uri": "https://localhost:8080/"
        },
        "id": "-QKajdAolWgZ",
        "outputId": "51db93a4-78c7-4bcd-fe89-d08a484621a1"
      },
      "execution_count": 2,
      "outputs": [
        {
          "output_type": "stream",
          "name": "stdout",
          "text": [
            "/content\n",
            "Cloning into 'Dataset-Obat-Entity-Matching'...\n",
            "remote: Enumerating objects: 12, done.\u001b[K\n",
            "remote: Counting objects: 100% (12/12), done.\u001b[K\n",
            "remote: Compressing objects: 100% (7/7), done.\u001b[K\n",
            "remote: Total 12 (delta 3), reused 12 (delta 3), pack-reused 0\u001b[K\n",
            "Unpacking objects: 100% (12/12), 92.83 KiB | 1.86 MiB/s, done.\n",
            "/content/Dataset-Obat-Entity-Matching\n"
          ]
        }
      ]
    },
    {
      "cell_type": "code",
      "metadata": {
        "colab": {
          "base_uri": "https://localhost:8080/"
        },
        "id": "UcE2tXHeLODR",
        "outputId": "bb6d8cc5-ff3c-4abb-9c17-4ab6ee3701c6"
      },
      "source": [
        "!pip install git+https://github.com/R-N/deepmatcher"
      ],
      "execution_count": 3,
      "outputs": [
        {
          "output_type": "stream",
          "name": "stdout",
          "text": [
            "Looking in indexes: https://pypi.org/simple, https://us-python.pkg.dev/colab-wheels/public/simple/\n",
            "Collecting git+https://github.com/R-N/deepmatcher\n",
            "  Cloning https://github.com/R-N/deepmatcher to /tmp/pip-req-build-_l2fo2cc\n",
            "  Running command git clone --filter=blob:none --quiet https://github.com/R-N/deepmatcher /tmp/pip-req-build-_l2fo2cc\n",
            "  Resolved https://github.com/R-N/deepmatcher to commit db9e11540b2c874180f3f6f918cef9c7a97bc886\n",
            "  Preparing metadata (setup.py) ... \u001b[?25l\u001b[?25hdone\n",
            "Requirement already satisfied: torch>=1.0 in /usr/local/lib/python3.10/dist-packages (from deepmatcher==0.1.2.post2) (2.0.0+cu118)\n",
            "Requirement already satisfied: tqdm in /usr/local/lib/python3.10/dist-packages (from deepmatcher==0.1.2.post2) (4.65.0)\n",
            "Collecting pyprind (from deepmatcher==0.1.2.post2)\n",
            "  Downloading PyPrind-2.11.3-py2.py3-none-any.whl (8.4 kB)\n",
            "Requirement already satisfied: six in /usr/local/lib/python3.10/dist-packages (from deepmatcher==0.1.2.post2) (1.16.0)\n",
            "Requirement already satisfied: Cython in /usr/local/lib/python3.10/dist-packages (from deepmatcher==0.1.2.post2) (0.29.34)\n",
            "Collecting torchtext==0.6.0 (from deepmatcher==0.1.2.post2)\n",
            "  Downloading torchtext-0.6.0-py3-none-any.whl (64 kB)\n",
            "\u001b[2K     \u001b[90m━━━━━━━━━━━━━━━━━━━━━━━━━━━━━━━━━━━━━━━━\u001b[0m \u001b[32m64.2/64.2 kB\u001b[0m \u001b[31m1.8 MB/s\u001b[0m eta \u001b[36m0:00:00\u001b[0m\n",
            "\u001b[?25hRequirement already satisfied: nltk>=3.2.5 in /usr/local/lib/python3.10/dist-packages (from deepmatcher==0.1.2.post2) (3.8.1)\n",
            "Collecting fasttext (from deepmatcher==0.1.2.post2)\n",
            "  Downloading fasttext-0.9.2.tar.gz (68 kB)\n",
            "\u001b[2K     \u001b[90m━━━━━━━━━━━━━━━━━━━━━━━━━━━━━━━━━━━━━━━━\u001b[0m \u001b[32m68.8/68.8 kB\u001b[0m \u001b[31m3.8 MB/s\u001b[0m eta \u001b[36m0:00:00\u001b[0m\n",
            "\u001b[?25h  Preparing metadata (setup.py) ... \u001b[?25l\u001b[?25hdone\n",
            "Requirement already satisfied: pandas in /usr/local/lib/python3.10/dist-packages (from deepmatcher==0.1.2.post2) (1.5.3)\n",
            "Collecting dill (from deepmatcher==0.1.2.post2)\n",
            "  Downloading dill-0.3.6-py3-none-any.whl (110 kB)\n",
            "\u001b[2K     \u001b[90m━━━━━━━━━━━━━━━━━━━━━━━━━━━━━━━━━━━━━━\u001b[0m \u001b[32m110.5/110.5 kB\u001b[0m \u001b[31m11.2 MB/s\u001b[0m eta \u001b[36m0:00:00\u001b[0m\n",
            "\u001b[?25hRequirement already satisfied: scikit-learn in /usr/local/lib/python3.10/dist-packages (from deepmatcher==0.1.2.post2) (1.2.2)\n",
            "Requirement already satisfied: requests in /usr/local/lib/python3.10/dist-packages (from torchtext==0.6.0->deepmatcher==0.1.2.post2) (2.27.1)\n",
            "Requirement already satisfied: numpy in /usr/local/lib/python3.10/dist-packages (from torchtext==0.6.0->deepmatcher==0.1.2.post2) (1.22.4)\n",
            "Collecting sentencepiece (from torchtext==0.6.0->deepmatcher==0.1.2.post2)\n",
            "  Downloading sentencepiece-0.1.99-cp310-cp310-manylinux_2_17_x86_64.manylinux2014_x86_64.whl (1.3 MB)\n",
            "\u001b[2K     \u001b[90m━━━━━━━━━━━━━━━━━━━━━━━━━━━━━━━━━━━━━━━━\u001b[0m \u001b[32m1.3/1.3 MB\u001b[0m \u001b[31m25.1 MB/s\u001b[0m eta \u001b[36m0:00:00\u001b[0m\n",
            "\u001b[?25hRequirement already satisfied: click in /usr/local/lib/python3.10/dist-packages (from nltk>=3.2.5->deepmatcher==0.1.2.post2) (8.1.3)\n",
            "Requirement already satisfied: joblib in /usr/local/lib/python3.10/dist-packages (from nltk>=3.2.5->deepmatcher==0.1.2.post2) (1.2.0)\n",
            "Requirement already satisfied: regex>=2021.8.3 in /usr/local/lib/python3.10/dist-packages (from nltk>=3.2.5->deepmatcher==0.1.2.post2) (2022.10.31)\n",
            "Requirement already satisfied: filelock in /usr/local/lib/python3.10/dist-packages (from torch>=1.0->deepmatcher==0.1.2.post2) (3.12.0)\n",
            "Requirement already satisfied: typing-extensions in /usr/local/lib/python3.10/dist-packages (from torch>=1.0->deepmatcher==0.1.2.post2) (4.5.0)\n",
            "Requirement already satisfied: sympy in /usr/local/lib/python3.10/dist-packages (from torch>=1.0->deepmatcher==0.1.2.post2) (1.11.1)\n",
            "Requirement already satisfied: networkx in /usr/local/lib/python3.10/dist-packages (from torch>=1.0->deepmatcher==0.1.2.post2) (3.1)\n",
            "Requirement already satisfied: jinja2 in /usr/local/lib/python3.10/dist-packages (from torch>=1.0->deepmatcher==0.1.2.post2) (3.1.2)\n",
            "Requirement already satisfied: triton==2.0.0 in /usr/local/lib/python3.10/dist-packages (from torch>=1.0->deepmatcher==0.1.2.post2) (2.0.0)\n",
            "Requirement already satisfied: cmake in /usr/local/lib/python3.10/dist-packages (from triton==2.0.0->torch>=1.0->deepmatcher==0.1.2.post2) (3.25.2)\n",
            "Requirement already satisfied: lit in /usr/local/lib/python3.10/dist-packages (from triton==2.0.0->torch>=1.0->deepmatcher==0.1.2.post2) (16.0.3)\n",
            "Collecting pybind11>=2.2 (from fasttext->deepmatcher==0.1.2.post2)\n",
            "  Using cached pybind11-2.10.4-py3-none-any.whl (222 kB)\n",
            "Requirement already satisfied: setuptools>=0.7.0 in /usr/local/lib/python3.10/dist-packages (from fasttext->deepmatcher==0.1.2.post2) (67.7.2)\n",
            "Requirement already satisfied: python-dateutil>=2.8.1 in /usr/local/lib/python3.10/dist-packages (from pandas->deepmatcher==0.1.2.post2) (2.8.2)\n",
            "Requirement already satisfied: pytz>=2020.1 in /usr/local/lib/python3.10/dist-packages (from pandas->deepmatcher==0.1.2.post2) (2022.7.1)\n",
            "Requirement already satisfied: scipy>=1.3.2 in /usr/local/lib/python3.10/dist-packages (from scikit-learn->deepmatcher==0.1.2.post2) (1.10.1)\n",
            "Requirement already satisfied: threadpoolctl>=2.0.0 in /usr/local/lib/python3.10/dist-packages (from scikit-learn->deepmatcher==0.1.2.post2) (3.1.0)\n",
            "Requirement already satisfied: MarkupSafe>=2.0 in /usr/local/lib/python3.10/dist-packages (from jinja2->torch>=1.0->deepmatcher==0.1.2.post2) (2.1.2)\n",
            "Requirement already satisfied: urllib3<1.27,>=1.21.1 in /usr/local/lib/python3.10/dist-packages (from requests->torchtext==0.6.0->deepmatcher==0.1.2.post2) (1.26.15)\n",
            "Requirement already satisfied: certifi>=2017.4.17 in /usr/local/lib/python3.10/dist-packages (from requests->torchtext==0.6.0->deepmatcher==0.1.2.post2) (2022.12.7)\n",
            "Requirement already satisfied: charset-normalizer~=2.0.0 in /usr/local/lib/python3.10/dist-packages (from requests->torchtext==0.6.0->deepmatcher==0.1.2.post2) (2.0.12)\n",
            "Requirement already satisfied: idna<4,>=2.5 in /usr/local/lib/python3.10/dist-packages (from requests->torchtext==0.6.0->deepmatcher==0.1.2.post2) (3.4)\n",
            "Requirement already satisfied: mpmath>=0.19 in /usr/local/lib/python3.10/dist-packages (from sympy->torch>=1.0->deepmatcher==0.1.2.post2) (1.3.0)\n",
            "Building wheels for collected packages: deepmatcher, fasttext\n",
            "  Building wheel for deepmatcher (setup.py) ... \u001b[?25l\u001b[?25hdone\n",
            "  Created wheel for deepmatcher: filename=deepmatcher-0.1.2.post2-py2.py3-none-any.whl size=55210 sha256=546f0e947357ad47d294cb86bd69996790653b5d451aaa1b6bbbba3bdacc9186\n",
            "  Stored in directory: /tmp/pip-ephem-wheel-cache-whtldq6a/wheels/56/ba/15/b39533827a2c7029de0ce5d2cc0465a76cb42c79fd8974b5c4\n",
            "  Building wheel for fasttext (setup.py) ... \u001b[?25l\u001b[?25hdone\n",
            "  Created wheel for fasttext: filename=fasttext-0.9.2-cp310-cp310-linux_x86_64.whl size=4393208 sha256=d968900ad592954cbe1ca6e7a51cf0be921df37eedf7df95f744bbe6cc0ae3fd\n",
            "  Stored in directory: /root/.cache/pip/wheels/a5/13/75/f811c84a8ab36eedbaef977a6a58a98990e8e0f1967f98f394\n",
            "Successfully built deepmatcher fasttext\n",
            "Installing collected packages: sentencepiece, pyprind, pybind11, dill, fasttext, torchtext, deepmatcher\n",
            "  Attempting uninstall: torchtext\n",
            "    Found existing installation: torchtext 0.15.1\n",
            "    Uninstalling torchtext-0.15.1:\n",
            "      Successfully uninstalled torchtext-0.15.1\n",
            "Successfully installed deepmatcher-0.1.2.post2 dill-0.3.6 fasttext-0.9.2 pybind11-2.10.4 pyprind-2.11.3 sentencepiece-0.1.99 torchtext-0.6.0\n"
          ]
        }
      ]
    },
    {
      "cell_type": "code",
      "metadata": {
        "colab": {
          "base_uri": "https://localhost:8080/"
        },
        "id": "kgBJKbJzLjyn",
        "outputId": "e0331212-9ee5-4ebe-ec35-4a79fa24ca6c"
      },
      "source": [
        "import deepmatcher as dm\n",
        "import torch\n",
        "import os\n",
        "\n",
        "torch.cuda.is_available()"
      ],
      "execution_count": 4,
      "outputs": [
        {
          "output_type": "execute_result",
          "data": {
            "text/plain": [
              "False"
            ]
          },
          "metadata": {},
          "execution_count": 4
        }
      ]
    },
    {
      "cell_type": "code",
      "metadata": {
        "colab": {
          "base_uri": "https://localhost:8080/"
        },
        "id": "tNr8wGZVLptm",
        "outputId": "a755e06c-6ded-470e-96ee-ba862e7a025d"
      },
      "source": [
        "train, validation, test = dm.data.process(\n",
        "    path=os.path.join('.'),\n",
        "    cache='train_cache.pth',\n",
        "    train='train.csv',\n",
        "    validation='valid.csv',\n",
        "    test='test.csv',\n",
        "    use_magellan_convention=True,\n",
        "    ignore_columns=('ltable_id', 'rtable_id'))"
      ],
      "execution_count": 8,
      "outputs": [
        {
          "output_type": "stream",
          "name": "stderr",
          "text": [
            "\n",
            "Reading and processing data from \"./train.csv\"\n",
            "0% [##########                    ] 100% | ETA: 00:00:03\n",
            "Reading and processing data from \"./valid.csv\"\n",
            "0% [##########                    ] 100% | ETA: 00:00:01\n",
            "Reading and processing data from \"./test.csv\"\n",
            "0% [###########                   ] 100% | ETA: 00:00:00Warning : `load_model` does not return WordVectorModel or SupervisedModel any more, but a `FastText` object which is very similar.\n",
            "\n",
            "Building vocabulary\n",
            "0% [#] 100% | ETA: 00:00:00\n",
            "Total time elapsed: 00:00:00\n",
            "\n",
            "Computing principal components\n",
            "0% [#] 100% | ETA: 00:00:00\n",
            "Total time elapsed: 00:00:01\n"
          ]
        }
      ]
    },
    {
      "cell_type": "code",
      "metadata": {
        "id": "z9DGVMdiNMPW",
        "colab": {
          "base_uri": "https://localhost:8080/",
          "height": 547
        },
        "outputId": "7e28f4c6-12c8-452c-95d1-30ff7a573a1e"
      },
      "source": [
        "train_table = train.get_raw_table()\n",
        "train_table.head()"
      ],
      "execution_count": 9,
      "outputs": [
        {
          "output_type": "execute_result",
          "data": {
            "text/plain": [
              "   _id  label                       ltable_produk_name ltable_produk_harga  \\\n",
              "0  340      0            ciprofloxacin 500 mg tab hexp              rp 600   \n",
              "1   30      0  obh combi batuk plus flu menthol 100 ml           rp 18,700   \n",
              "2   19      1   obh combi batuk plus flu menthol 60 ml           rp 13,500   \n",
              "3  212      0               flagyl oral suspensi 60 ml           rp 77,000   \n",
              "4  124      0                sanadryl dmp sirup 120 ml           rp 26,600   \n",
              "\n",
              "  ltable_produk_satuan                                   ltable_deskripsi  \\\n",
              "0               tablet  ciprofloxacin adalah obat yang masuk dalam kat...   \n",
              "1                botol  obh combi adalah obat minum dalam bentuk sirup...   \n",
              "2                botol  obh combi adalah obat minum dalam bentuk sirup...   \n",
              "3                botol  flagyl merupakan obat yang mengandung antibiot...   \n",
              "4                botol  sanadryl dmp adalah obat untuk mengatasi batuk...   \n",
              "\n",
              "                                     ltable_indikasi  \\\n",
              "0  infeksi saluran pernafasan , infeksi jaringan ...   \n",
              "1  meredakan batuk yang disertai gejala-gejala fl...   \n",
              "2  meredakan batuk yang disertai gejala-gejala fl...   \n",
              "3  pengobatan uretritis , vaginitis karena parasi...   \n",
              "4               meredakan batuk kering akibat alergi   \n",
              "\n",
              "                                    ltable_komposisi  \\\n",
              "0                               ciprofloxacin 500 mg   \n",
              "1  succus liquiritiae 167 mg/5ml , paracetamol 15...   \n",
              "2  succus liquiritiae 167 mg/5ml , paracetamol 15...   \n",
              "3                   tiap 5 ml : metronidazole 125 mg   \n",
              "4  dextromethorphan hbr 10 mg/5ml , diphenhydrami...   \n",
              "\n",
              "                                        ltable_dosis  \\\n",
              "0                                                      \n",
              "1                                                      \n",
              "2                                                      \n",
              "3  usus amoebiasis : 750 mg , tiga kali sehari se...   \n",
              "4                                                      \n",
              "\n",
              "                     rtable_produk_name rtable_produk_harga  \\\n",
              "0        ciprofloxacin kf 500mg tab 50s              rp 768   \n",
              "1  obh combi dewasa batuk flu madu 60ml           rp 13.979   \n",
              "2  obh combi dewasa batuk flu jahe 60ml           rp 13.867   \n",
              "3         allerin ekspektoran syr 60 ml           rp 14.340   \n",
              "4        sanaflu plus batuk sirup 60 ml           rp 11.817   \n",
              "\n",
              "  rtable_produk_satuan                                   rtable_deskripsi  \\\n",
              "0               tablet  ciprofloxacin kf 500mg tab digunakan untuk men...   \n",
              "1                botol  obh combi batuk flu merupakan obat batuk pilek...   \n",
              "2                botol  obh combi batuk flu merupakan obat batuk pilek...   \n",
              "3                botol  mengatasi batuk berdahak karena adanya iritasi...   \n",
              "4                botol  sanaflu plus batuk syrup merupakan produk obat...   \n",
              "\n",
              "                                     rtable_indikasi  \\\n",
              "0  infeksi saluran kemih , infeksi saluran pernaf...   \n",
              "1  meredakan batuk yang disertai gejala-gejala fl...   \n",
              "2  meredakan batuk yang disertai gejala-gejala fl...   \n",
              "3  batuk berdahak karena adanya iritasi , alergi ...   \n",
              "4                          influenza , demam , pilek   \n",
              "\n",
              "                                    rtable_komposisi  \\\n",
              "0                               ciprofloxacin 500 mg   \n",
              "1  succus liquiritiae extract 167 mg , paracetamo...   \n",
              "2  succus liquiritiae extract 167 mg , paracetamo...   \n",
              "3  gliserilguaiakolat 50 mg , na-sitrat 180 mg , ...   \n",
              "4  per 5 ml : paracetamol 120 mg , dextromethorph...   \n",
              "\n",
              "                                        rtable_dosis  \n",
              "0  infeksi saluran kemih ( isk ) : ringan - sedan...  \n",
              "1  > 12 thn : sehari , 3 x 3 sendok takar ( @ 5 ml )  \n",
              "2  dewasa dan anak > 12 thn : 3 kali sehari 3 sen...  \n",
              "3  dewasa 1â½-2 sdt 3-4 kali per hari anak 7-12 t...  \n",
              "4  dewasa : 3-4 kali sehari 4 sendok takar ( 20 m...  "
            ],
            "text/html": [
              "\n",
              "  <div id=\"df-7f13ec84-a068-4728-868f-609e229b1d21\">\n",
              "    <div class=\"colab-df-container\">\n",
              "      <div>\n",
              "<style scoped>\n",
              "    .dataframe tbody tr th:only-of-type {\n",
              "        vertical-align: middle;\n",
              "    }\n",
              "\n",
              "    .dataframe tbody tr th {\n",
              "        vertical-align: top;\n",
              "    }\n",
              "\n",
              "    .dataframe thead th {\n",
              "        text-align: right;\n",
              "    }\n",
              "</style>\n",
              "<table border=\"1\" class=\"dataframe\">\n",
              "  <thead>\n",
              "    <tr style=\"text-align: right;\">\n",
              "      <th></th>\n",
              "      <th>_id</th>\n",
              "      <th>label</th>\n",
              "      <th>ltable_produk_name</th>\n",
              "      <th>ltable_produk_harga</th>\n",
              "      <th>ltable_produk_satuan</th>\n",
              "      <th>ltable_deskripsi</th>\n",
              "      <th>ltable_indikasi</th>\n",
              "      <th>ltable_komposisi</th>\n",
              "      <th>ltable_dosis</th>\n",
              "      <th>rtable_produk_name</th>\n",
              "      <th>rtable_produk_harga</th>\n",
              "      <th>rtable_produk_satuan</th>\n",
              "      <th>rtable_deskripsi</th>\n",
              "      <th>rtable_indikasi</th>\n",
              "      <th>rtable_komposisi</th>\n",
              "      <th>rtable_dosis</th>\n",
              "    </tr>\n",
              "  </thead>\n",
              "  <tbody>\n",
              "    <tr>\n",
              "      <th>0</th>\n",
              "      <td>340</td>\n",
              "      <td>0</td>\n",
              "      <td>ciprofloxacin 500 mg tab hexp</td>\n",
              "      <td>rp 600</td>\n",
              "      <td>tablet</td>\n",
              "      <td>ciprofloxacin adalah obat yang masuk dalam kat...</td>\n",
              "      <td>infeksi saluran pernafasan , infeksi jaringan ...</td>\n",
              "      <td>ciprofloxacin 500 mg</td>\n",
              "      <td></td>\n",
              "      <td>ciprofloxacin kf 500mg tab 50s</td>\n",
              "      <td>rp 768</td>\n",
              "      <td>tablet</td>\n",
              "      <td>ciprofloxacin kf 500mg tab digunakan untuk men...</td>\n",
              "      <td>infeksi saluran kemih , infeksi saluran pernaf...</td>\n",
              "      <td>ciprofloxacin 500 mg</td>\n",
              "      <td>infeksi saluran kemih ( isk ) : ringan - sedan...</td>\n",
              "    </tr>\n",
              "    <tr>\n",
              "      <th>1</th>\n",
              "      <td>30</td>\n",
              "      <td>0</td>\n",
              "      <td>obh combi batuk plus flu menthol 100 ml</td>\n",
              "      <td>rp 18,700</td>\n",
              "      <td>botol</td>\n",
              "      <td>obh combi adalah obat minum dalam bentuk sirup...</td>\n",
              "      <td>meredakan batuk yang disertai gejala-gejala fl...</td>\n",
              "      <td>succus liquiritiae 167 mg/5ml , paracetamol 15...</td>\n",
              "      <td></td>\n",
              "      <td>obh combi dewasa batuk flu madu 60ml</td>\n",
              "      <td>rp 13.979</td>\n",
              "      <td>botol</td>\n",
              "      <td>obh combi batuk flu merupakan obat batuk pilek...</td>\n",
              "      <td>meredakan batuk yang disertai gejala-gejala fl...</td>\n",
              "      <td>succus liquiritiae extract 167 mg , paracetamo...</td>\n",
              "      <td>&gt; 12 thn : sehari , 3 x 3 sendok takar ( @ 5 ml )</td>\n",
              "    </tr>\n",
              "    <tr>\n",
              "      <th>2</th>\n",
              "      <td>19</td>\n",
              "      <td>1</td>\n",
              "      <td>obh combi batuk plus flu menthol 60 ml</td>\n",
              "      <td>rp 13,500</td>\n",
              "      <td>botol</td>\n",
              "      <td>obh combi adalah obat minum dalam bentuk sirup...</td>\n",
              "      <td>meredakan batuk yang disertai gejala-gejala fl...</td>\n",
              "      <td>succus liquiritiae 167 mg/5ml , paracetamol 15...</td>\n",
              "      <td></td>\n",
              "      <td>obh combi dewasa batuk flu jahe 60ml</td>\n",
              "      <td>rp 13.867</td>\n",
              "      <td>botol</td>\n",
              "      <td>obh combi batuk flu merupakan obat batuk pilek...</td>\n",
              "      <td>meredakan batuk yang disertai gejala-gejala fl...</td>\n",
              "      <td>succus liquiritiae extract 167 mg , paracetamo...</td>\n",
              "      <td>dewasa dan anak &gt; 12 thn : 3 kali sehari 3 sen...</td>\n",
              "    </tr>\n",
              "    <tr>\n",
              "      <th>3</th>\n",
              "      <td>212</td>\n",
              "      <td>0</td>\n",
              "      <td>flagyl oral suspensi 60 ml</td>\n",
              "      <td>rp 77,000</td>\n",
              "      <td>botol</td>\n",
              "      <td>flagyl merupakan obat yang mengandung antibiot...</td>\n",
              "      <td>pengobatan uretritis , vaginitis karena parasi...</td>\n",
              "      <td>tiap 5 ml : metronidazole 125 mg</td>\n",
              "      <td>usus amoebiasis : 750 mg , tiga kali sehari se...</td>\n",
              "      <td>allerin ekspektoran syr 60 ml</td>\n",
              "      <td>rp 14.340</td>\n",
              "      <td>botol</td>\n",
              "      <td>mengatasi batuk berdahak karena adanya iritasi...</td>\n",
              "      <td>batuk berdahak karena adanya iritasi , alergi ...</td>\n",
              "      <td>gliserilguaiakolat 50 mg , na-sitrat 180 mg , ...</td>\n",
              "      <td>dewasa 1â½-2 sdt 3-4 kali per hari anak 7-12 t...</td>\n",
              "    </tr>\n",
              "    <tr>\n",
              "      <th>4</th>\n",
              "      <td>124</td>\n",
              "      <td>0</td>\n",
              "      <td>sanadryl dmp sirup 120 ml</td>\n",
              "      <td>rp 26,600</td>\n",
              "      <td>botol</td>\n",
              "      <td>sanadryl dmp adalah obat untuk mengatasi batuk...</td>\n",
              "      <td>meredakan batuk kering akibat alergi</td>\n",
              "      <td>dextromethorphan hbr 10 mg/5ml , diphenhydrami...</td>\n",
              "      <td></td>\n",
              "      <td>sanaflu plus batuk sirup 60 ml</td>\n",
              "      <td>rp 11.817</td>\n",
              "      <td>botol</td>\n",
              "      <td>sanaflu plus batuk syrup merupakan produk obat...</td>\n",
              "      <td>influenza , demam , pilek</td>\n",
              "      <td>per 5 ml : paracetamol 120 mg , dextromethorph...</td>\n",
              "      <td>dewasa : 3-4 kali sehari 4 sendok takar ( 20 m...</td>\n",
              "    </tr>\n",
              "  </tbody>\n",
              "</table>\n",
              "</div>\n",
              "      <button class=\"colab-df-convert\" onclick=\"convertToInteractive('df-7f13ec84-a068-4728-868f-609e229b1d21')\"\n",
              "              title=\"Convert this dataframe to an interactive table.\"\n",
              "              style=\"display:none;\">\n",
              "        \n",
              "  <svg xmlns=\"http://www.w3.org/2000/svg\" height=\"24px\"viewBox=\"0 0 24 24\"\n",
              "       width=\"24px\">\n",
              "    <path d=\"M0 0h24v24H0V0z\" fill=\"none\"/>\n",
              "    <path d=\"M18.56 5.44l.94 2.06.94-2.06 2.06-.94-2.06-.94-.94-2.06-.94 2.06-2.06.94zm-11 1L8.5 8.5l.94-2.06 2.06-.94-2.06-.94L8.5 2.5l-.94 2.06-2.06.94zm10 10l.94 2.06.94-2.06 2.06-.94-2.06-.94-.94-2.06-.94 2.06-2.06.94z\"/><path d=\"M17.41 7.96l-1.37-1.37c-.4-.4-.92-.59-1.43-.59-.52 0-1.04.2-1.43.59L10.3 9.45l-7.72 7.72c-.78.78-.78 2.05 0 2.83L4 21.41c.39.39.9.59 1.41.59.51 0 1.02-.2 1.41-.59l7.78-7.78 2.81-2.81c.8-.78.8-2.07 0-2.86zM5.41 20L4 18.59l7.72-7.72 1.47 1.35L5.41 20z\"/>\n",
              "  </svg>\n",
              "      </button>\n",
              "      \n",
              "  <style>\n",
              "    .colab-df-container {\n",
              "      display:flex;\n",
              "      flex-wrap:wrap;\n",
              "      gap: 12px;\n",
              "    }\n",
              "\n",
              "    .colab-df-convert {\n",
              "      background-color: #E8F0FE;\n",
              "      border: none;\n",
              "      border-radius: 50%;\n",
              "      cursor: pointer;\n",
              "      display: none;\n",
              "      fill: #1967D2;\n",
              "      height: 32px;\n",
              "      padding: 0 0 0 0;\n",
              "      width: 32px;\n",
              "    }\n",
              "\n",
              "    .colab-df-convert:hover {\n",
              "      background-color: #E2EBFA;\n",
              "      box-shadow: 0px 1px 2px rgba(60, 64, 67, 0.3), 0px 1px 3px 1px rgba(60, 64, 67, 0.15);\n",
              "      fill: #174EA6;\n",
              "    }\n",
              "\n",
              "    [theme=dark] .colab-df-convert {\n",
              "      background-color: #3B4455;\n",
              "      fill: #D2E3FC;\n",
              "    }\n",
              "\n",
              "    [theme=dark] .colab-df-convert:hover {\n",
              "      background-color: #434B5C;\n",
              "      box-shadow: 0px 1px 3px 1px rgba(0, 0, 0, 0.15);\n",
              "      filter: drop-shadow(0px 1px 2px rgba(0, 0, 0, 0.3));\n",
              "      fill: #FFFFFF;\n",
              "    }\n",
              "  </style>\n",
              "\n",
              "      <script>\n",
              "        const buttonEl =\n",
              "          document.querySelector('#df-7f13ec84-a068-4728-868f-609e229b1d21 button.colab-df-convert');\n",
              "        buttonEl.style.display =\n",
              "          google.colab.kernel.accessAllowed ? 'block' : 'none';\n",
              "\n",
              "        async function convertToInteractive(key) {\n",
              "          const element = document.querySelector('#df-7f13ec84-a068-4728-868f-609e229b1d21');\n",
              "          const dataTable =\n",
              "            await google.colab.kernel.invokeFunction('convertToInteractive',\n",
              "                                                     [key], {});\n",
              "          if (!dataTable) return;\n",
              "\n",
              "          const docLinkHtml = 'Like what you see? Visit the ' +\n",
              "            '<a target=\"_blank\" href=https://colab.research.google.com/notebooks/data_table.ipynb>data table notebook</a>'\n",
              "            + ' to learn more about interactive tables.';\n",
              "          element.innerHTML = '';\n",
              "          dataTable['output_type'] = 'display_data';\n",
              "          await google.colab.output.renderOutput(dataTable, element);\n",
              "          const docLink = document.createElement('div');\n",
              "          docLink.innerHTML = docLinkHtml;\n",
              "          element.appendChild(docLink);\n",
              "        }\n",
              "      </script>\n",
              "    </div>\n",
              "  </div>\n",
              "  "
            ]
          },
          "metadata": {},
          "execution_count": 9
        }
      ]
    },
    {
      "cell_type": "code",
      "metadata": {
        "id": "tDAvFSG7NfiQ",
        "colab": {
          "base_uri": "https://localhost:8080/"
        },
        "outputId": "fce25e9b-1362-41a8-f1a6-ed671360ba0f"
      },
      "source": [
        "model = dm.MatchingModel(attr_summarizer='hybrid')\n",
        "\n",
        "model.run_train(\n",
        "    train,\n",
        "    validation,\n",
        "    epochs=10,\n",
        "    batch_size=16,\n",
        "    best_save_path='hybrid_model.pth',\n",
        "    pos_neg_ratio=17)"
      ],
      "execution_count": 10,
      "outputs": [
        {
          "metadata": {
            "tags": null
          },
          "name": "stderr",
          "output_type": "stream",
          "text": [
            "/usr/local/lib/python3.10/dist-packages/torch/nn/modules/module.py:1319: UserWarning: Using non-full backward hooks on a Module that does not take as input a single Tensor or a tuple of Tensors is deprecated and will be removed in future versions. This hook will be missing some of the grad_input. Please use register_full_backward_hook to get the documented behavior.\n",
            "  warnings.warn(\"Using non-full backward hooks on a Module that does not take as input a \"\n",
            "/usr/local/lib/python3.10/dist-packages/torch/nn/modules/module.py:1344: UserWarning: Using a non-full backward hook when the forward contains multiple autograd Nodes is deprecated and will be removed in future versions. This hook will be missing some grad_input. Please use register_full_backward_hook to get the documented behavior.\n",
            "  warnings.warn(\"Using a non-full backward hook when the forward contains multiple autograd Nodes \"\n"
          ]
        },
        {
          "metadata": {
            "tags": null
          },
          "name": "stdout",
          "output_type": "stream",
          "text": [
            "* Number of trainable parameters: 15560809\n",
            "===>  TRAIN Epoch 1\n"
          ]
        },
        {
          "metadata": {
            "tags": null
          },
          "name": "stderr",
          "output_type": "stream",
          "text": [
            "/usr/local/lib/python3.10/dist-packages/torch/nn/modules/module.py:1309: UserWarning: Using non-full backward hooks on a Module that does not return a single Tensor or a tuple of Tensors is deprecated and will be removed in future versions. This hook will be missing some of the grad_output. Please use register_full_backward_hook to get the documented behavior.\n",
            "  warnings.warn(\"Using non-full backward hooks on a Module that does not return a \"\n",
            "/usr/local/lib/python3.10/dist-packages/torch/nn/functional.py:2919: UserWarning: reduction: 'mean' divides the total loss by both the batch size and the support size.'batchmean' divides only by the batch size, and aligns with the KL div math definition.'mean' will be changed to behave the same as 'batchmean' in the next major release.\n",
            "  warnings.warn(\n",
            "0% [███] 100% | ETA: 00:00:00\n",
            "Total time elapsed: 00:01:43\n"
          ]
        },
        {
          "metadata": {
            "tags": null
          },
          "name": "stdout",
          "output_type": "stream",
          "text": [
            "Finished Epoch 1 || Run Time:  117.0 | Load Time:    0.5 || F1:  11.56 | Prec:   6.16 | Rec:  92.86 || Ex/s:   2.23\n",
            "\n",
            "===>  EVAL Epoch 1\n"
          ]
        },
        {
          "metadata": {
            "tags": null
          },
          "name": "stderr",
          "output_type": "stream",
          "text": [
            "0% [█] 100% | ETA: 00:00:00\n",
            "Total time elapsed: 00:00:08\n"
          ]
        },
        {
          "metadata": {
            "tags": null
          },
          "name": "stdout",
          "output_type": "stream",
          "text": [
            "Finished Epoch 1 || Run Time:   11.6 | Load Time:    0.1 || F1:  10.87 | Prec:   5.75 | Rec: 100.00 || Ex/s:   7.39\n",
            "\n",
            "* Best F1: tensor(10.8696)\n",
            "Saving best model...\n",
            "Done.\n",
            "---------------------\n",
            "\n",
            "===>  TRAIN Epoch 2\n"
          ]
        },
        {
          "metadata": {
            "tags": null
          },
          "name": "stderr",
          "output_type": "stream",
          "text": [
            "0% [███] 100% | ETA: 00:00:00\n",
            "Total time elapsed: 00:01:40\n"
          ]
        },
        {
          "metadata": {
            "tags": null
          },
          "name": "stdout",
          "output_type": "stream",
          "text": [
            "Finished Epoch 2 || Run Time:  113.8 | Load Time:    0.6 || F1:  10.14 | Prec:   5.34 | Rec: 100.00 || Ex/s:   2.29\n",
            "\n",
            "===>  EVAL Epoch 2\n"
          ]
        },
        {
          "metadata": {
            "tags": null
          },
          "name": "stderr",
          "output_type": "stream",
          "text": [
            "0% [█] 100% | ETA: 00:00:00\n",
            "Total time elapsed: 00:00:08\n"
          ]
        },
        {
          "metadata": {
            "tags": null
          },
          "name": "stdout",
          "output_type": "stream",
          "text": [
            "Finished Epoch 2 || Run Time:    9.3 | Load Time:    0.1 || F1:  11.11 | Prec:   5.88 | Rec: 100.00 || Ex/s:   9.26\n",
            "\n",
            "* Best F1: tensor(11.1111)\n",
            "Saving best model...\n",
            "Done.\n",
            "---------------------\n",
            "\n",
            "===>  TRAIN Epoch 3\n"
          ]
        },
        {
          "metadata": {
            "tags": null
          },
          "name": "stderr",
          "output_type": "stream",
          "text": [
            "0% [███] 100% | ETA: 00:00:00\n",
            "Total time elapsed: 00:01:43\n"
          ]
        },
        {
          "metadata": {
            "tags": null
          },
          "name": "stdout",
          "output_type": "stream",
          "text": [
            "Finished Epoch 3 || Run Time:  116.7 | Load Time:    0.7 || F1:  11.72 | Prec:   6.22 | Rec: 100.00 || Ex/s:   2.23\n",
            "\n",
            "===>  EVAL Epoch 3\n"
          ]
        },
        {
          "metadata": {
            "tags": null
          },
          "name": "stderr",
          "output_type": "stream",
          "text": [
            "0% [█] 100% | ETA: 00:00:00\n",
            "Total time elapsed: 00:00:08\n"
          ]
        },
        {
          "metadata": {
            "tags": null
          },
          "name": "stdout",
          "output_type": "stream",
          "text": [
            "Finished Epoch 3 || Run Time:    8.8 | Load Time:    0.1 || F1:  10.87 | Prec:   5.75 | Rec: 100.00 || Ex/s:   9.71\n",
            "\n",
            "---------------------\n",
            "\n",
            "===>  TRAIN Epoch 4\n"
          ]
        },
        {
          "metadata": {
            "tags": null
          },
          "name": "stderr",
          "output_type": "stream",
          "text": [
            "0% [███] 100% | ETA: 00:00:00\n",
            "Total time elapsed: 00:01:38\n"
          ]
        },
        {
          "metadata": {
            "tags": null
          },
          "name": "stdout",
          "output_type": "stream",
          "text": [
            "Finished Epoch 4 || Run Time:  111.8 | Load Time:    0.6 || F1:  13.02 | Prec:   6.97 | Rec: 100.00 || Ex/s:   2.33\n",
            "\n",
            "===>  EVAL Epoch 4\n"
          ]
        },
        {
          "metadata": {
            "tags": null
          },
          "name": "stderr",
          "output_type": "stream",
          "text": [
            "0% [█] 100% | ETA: 00:00:00\n",
            "Total time elapsed: 00:00:09\n"
          ]
        },
        {
          "metadata": {
            "tags": null
          },
          "name": "stdout",
          "output_type": "stream",
          "text": [
            "Finished Epoch 4 || Run Time:    9.9 | Load Time:    0.2 || F1:  14.71 | Prec:   7.94 | Rec: 100.00 || Ex/s:   8.67\n",
            "\n",
            "* Best F1: tensor(14.7059)\n",
            "Saving best model...\n",
            "Done.\n",
            "---------------------\n",
            "\n",
            "===>  TRAIN Epoch 5\n"
          ]
        },
        {
          "metadata": {
            "tags": null
          },
          "name": "stderr",
          "output_type": "stream",
          "text": [
            "0% [███] 100% | ETA: 00:00:00\n",
            "Total time elapsed: 00:01:35\n"
          ]
        },
        {
          "metadata": {
            "tags": null
          },
          "name": "stdout",
          "output_type": "stream",
          "text": [
            "Finished Epoch 5 || Run Time:  109.0 | Load Time:    0.5 || F1:  15.22 | Prec:   8.24 | Rec: 100.00 || Ex/s:   2.39\n",
            "\n",
            "===>  EVAL Epoch 5\n"
          ]
        },
        {
          "metadata": {
            "tags": null
          },
          "name": "stderr",
          "output_type": "stream",
          "text": [
            "0% [█] 100% | ETA: 00:00:00\n",
            "Total time elapsed: 00:00:09\n"
          ]
        },
        {
          "metadata": {
            "tags": null
          },
          "name": "stdout",
          "output_type": "stream",
          "text": [
            "Finished Epoch 5 || Run Time:    9.7 | Load Time:    0.2 || F1:  18.87 | Prec:  10.42 | Rec: 100.00 || Ex/s:   8.77\n",
            "\n",
            "* Best F1: tensor(18.8679)\n",
            "Saving best model...\n",
            "Done.\n",
            "---------------------\n",
            "\n",
            "===>  TRAIN Epoch 6\n"
          ]
        },
        {
          "metadata": {
            "tags": null
          },
          "name": "stderr",
          "output_type": "stream",
          "text": [
            "0% [███] 100% | ETA: 00:00:00\n",
            "Total time elapsed: 00:01:36\n"
          ]
        },
        {
          "metadata": {
            "tags": null
          },
          "name": "stdout",
          "output_type": "stream",
          "text": [
            "Finished Epoch 6 || Run Time:  109.4 | Load Time:    0.6 || F1:  20.14 | Prec:  11.20 | Rec: 100.00 || Ex/s:   2.38\n",
            "\n",
            "===>  EVAL Epoch 6\n"
          ]
        },
        {
          "metadata": {
            "tags": null
          },
          "name": "stderr",
          "output_type": "stream",
          "text": [
            "0% [█] 100% | ETA: 00:00:00\n",
            "Total time elapsed: 00:00:08\n"
          ]
        },
        {
          "metadata": {
            "tags": null
          },
          "name": "stdout",
          "output_type": "stream",
          "text": [
            "Finished Epoch 6 || Run Time:   10.0 | Load Time:    0.1 || F1:  21.28 | Prec:  11.90 | Rec: 100.00 || Ex/s:   8.58\n",
            "\n",
            "* Best F1: tensor(21.2766)\n",
            "Saving best model...\n",
            "Done.\n",
            "---------------------\n",
            "\n",
            "===>  TRAIN Epoch 7\n"
          ]
        },
        {
          "metadata": {
            "tags": null
          },
          "name": "stderr",
          "output_type": "stream",
          "text": [
            "0% [███] 100% | ETA: 00:00:00\n",
            "Total time elapsed: 00:01:35\n"
          ]
        },
        {
          "metadata": {
            "tags": null
          },
          "name": "stdout",
          "output_type": "stream",
          "text": [
            "Finished Epoch 7 || Run Time:  108.8 | Load Time:    0.6 || F1:  21.71 | Prec:  12.17 | Rec: 100.00 || Ex/s:   2.39\n",
            "\n",
            "===>  EVAL Epoch 7\n"
          ]
        },
        {
          "metadata": {
            "tags": null
          },
          "name": "stderr",
          "output_type": "stream",
          "text": [
            "0% [█] 100% | ETA: 00:00:00\n",
            "Total time elapsed: 00:00:09\n"
          ]
        },
        {
          "metadata": {
            "tags": null
          },
          "name": "stdout",
          "output_type": "stream",
          "text": [
            "Finished Epoch 7 || Run Time:    9.9 | Load Time:    0.1 || F1:  21.28 | Prec:  11.90 | Rec: 100.00 || Ex/s:   8.63\n",
            "\n",
            "---------------------\n",
            "\n",
            "===>  TRAIN Epoch 8\n"
          ]
        },
        {
          "metadata": {
            "tags": null
          },
          "name": "stderr",
          "output_type": "stream",
          "text": [
            "0% [███] 100% | ETA: 00:00:00\n",
            "Total time elapsed: 00:01:35\n"
          ]
        },
        {
          "metadata": {
            "tags": null
          },
          "name": "stdout",
          "output_type": "stream",
          "text": [
            "Finished Epoch 8 || Run Time:  108.3 | Load Time:    0.6 || F1:  23.73 | Prec:  13.46 | Rec: 100.00 || Ex/s:   2.41\n",
            "\n",
            "===>  EVAL Epoch 8\n"
          ]
        },
        {
          "metadata": {
            "tags": null
          },
          "name": "stderr",
          "output_type": "stream",
          "text": [
            "0% [█] 100% | ETA: 00:00:00\n",
            "Total time elapsed: 00:00:09\n"
          ]
        },
        {
          "metadata": {
            "tags": null
          },
          "name": "stdout",
          "output_type": "stream",
          "text": [
            "Finished Epoch 8 || Run Time:    9.9 | Load Time:    0.2 || F1:  24.39 | Prec:  13.89 | Rec: 100.00 || Ex/s:   8.64\n",
            "\n",
            "* Best F1: tensor(24.3902)\n",
            "Saving best model...\n",
            "Done.\n",
            "---------------------\n",
            "\n",
            "===>  TRAIN Epoch 9\n"
          ]
        },
        {
          "output_type": "stream",
          "name": "stderr",
          "text": [
            "0% [███] 100% | ETA: 00:00:00\n",
            "Total time elapsed: 00:01:37\n"
          ]
        },
        {
          "output_type": "stream",
          "name": "stdout",
          "text": [
            "Finished Epoch 9 || Run Time:  109.9 | Load Time:    0.6 || F1:  26.42 | Prec:  15.22 | Rec: 100.00 || Ex/s:   2.37\n",
            "\n",
            "===>  EVAL Epoch 9\n"
          ]
        },
        {
          "output_type": "stream",
          "name": "stderr",
          "text": [
            "0% [█] 100% | ETA: 00:00:00\n",
            "Total time elapsed: 00:00:09\n"
          ]
        },
        {
          "output_type": "stream",
          "name": "stdout",
          "text": [
            "Finished Epoch 9 || Run Time:   10.0 | Load Time:    0.1 || F1:  21.74 | Prec:  12.20 | Rec: 100.00 || Ex/s:   8.63\n",
            "\n",
            "---------------------\n",
            "\n",
            "===>  TRAIN Epoch 10\n"
          ]
        },
        {
          "output_type": "stream",
          "name": "stderr",
          "text": [
            "0% [███] 100% | ETA: 00:00:00\n",
            "Total time elapsed: 00:01:35\n"
          ]
        },
        {
          "output_type": "stream",
          "name": "stdout",
          "text": [
            "Finished Epoch 10 || Run Time:  108.3 | Load Time:    0.5 || F1:  28.87 | Prec:  16.87 | Rec: 100.00 || Ex/s:   2.41\n",
            "\n",
            "===>  EVAL Epoch 10\n"
          ]
        },
        {
          "output_type": "stream",
          "name": "stderr",
          "text": [
            "0% [█] 100% | ETA: 00:00:00\n",
            "Total time elapsed: 00:00:08\n"
          ]
        },
        {
          "output_type": "stream",
          "name": "stdout",
          "text": [
            "Finished Epoch 10 || Run Time:    9.3 | Load Time:    0.1 || F1:  20.51 | Prec:  11.76 | Rec:  80.00 || Ex/s:   9.26\n",
            "\n",
            "---------------------\n",
            "\n",
            "Loading best model...\n",
            "Training done.\n"
          ]
        },
        {
          "output_type": "execute_result",
          "data": {
            "text/plain": [
              "tensor(24.3902)"
            ]
          },
          "metadata": {},
          "execution_count": 10
        }
      ]
    },
    {
      "cell_type": "code",
      "metadata": {
        "colab": {
          "base_uri": "https://localhost:8080/"
        },
        "id": "WhdAyaBxRjcZ",
        "outputId": "71ec96b6-badf-46c4-b9c9-99edc5430db7"
      },
      "source": [
        "unlabeled = dm.data.process_unlabeled(\n",
        "    path='unlabeled.csv',\n",
        "    trained_model=model)"
      ],
      "execution_count": 11,
      "outputs": [
        {
          "output_type": "stream",
          "name": "stderr",
          "text": [
            "\n",
            "Reading and processing data from \"unlabeled.csv\"\n",
            "0% [##########      ] 100% | ETA: 00:00:00"
          ]
        }
      ]
    },
    {
      "cell_type": "code",
      "metadata": {
        "colab": {
          "base_uri": "https://localhost:8080/",
          "height": 289
        },
        "id": "OxvMTtQLRnye",
        "outputId": "dd94bf2c-3bda-4254-e110-af6381b8cabb"
      },
      "source": [
        "predictions = model.run_prediction(unlabeled)\n",
        "predictions.head()"
      ],
      "execution_count": 12,
      "outputs": [
        {
          "output_type": "stream",
          "name": "stdout",
          "text": [
            "===>  PREDICT Epoch 8\n",
            "Finished Epoch 8 || Run Time:    1.0 | Load Time:    0.0 || F1:   0.00 | Prec:   0.00 | Rec:   0.00 || Ex/s:   0.00\n",
            "\n"
          ]
        },
        {
          "output_type": "execute_result",
          "data": {
            "text/plain": [
              "     match_score\n",
              "_id             \n",
              "31      0.861153\n",
              "155     0.958828\n",
              "331     0.492066\n",
              "274     0.953992\n",
              "65      0.424124"
            ],
            "text/html": [
              "\n",
              "  <div id=\"df-97dd892b-fd4c-49bb-8fd7-b9ab190cac4c\">\n",
              "    <div class=\"colab-df-container\">\n",
              "      <div>\n",
              "<style scoped>\n",
              "    .dataframe tbody tr th:only-of-type {\n",
              "        vertical-align: middle;\n",
              "    }\n",
              "\n",
              "    .dataframe tbody tr th {\n",
              "        vertical-align: top;\n",
              "    }\n",
              "\n",
              "    .dataframe thead th {\n",
              "        text-align: right;\n",
              "    }\n",
              "</style>\n",
              "<table border=\"1\" class=\"dataframe\">\n",
              "  <thead>\n",
              "    <tr style=\"text-align: right;\">\n",
              "      <th></th>\n",
              "      <th>match_score</th>\n",
              "    </tr>\n",
              "    <tr>\n",
              "      <th>_id</th>\n",
              "      <th></th>\n",
              "    </tr>\n",
              "  </thead>\n",
              "  <tbody>\n",
              "    <tr>\n",
              "      <th>31</th>\n",
              "      <td>0.861153</td>\n",
              "    </tr>\n",
              "    <tr>\n",
              "      <th>155</th>\n",
              "      <td>0.958828</td>\n",
              "    </tr>\n",
              "    <tr>\n",
              "      <th>331</th>\n",
              "      <td>0.492066</td>\n",
              "    </tr>\n",
              "    <tr>\n",
              "      <th>274</th>\n",
              "      <td>0.953992</td>\n",
              "    </tr>\n",
              "    <tr>\n",
              "      <th>65</th>\n",
              "      <td>0.424124</td>\n",
              "    </tr>\n",
              "  </tbody>\n",
              "</table>\n",
              "</div>\n",
              "      <button class=\"colab-df-convert\" onclick=\"convertToInteractive('df-97dd892b-fd4c-49bb-8fd7-b9ab190cac4c')\"\n",
              "              title=\"Convert this dataframe to an interactive table.\"\n",
              "              style=\"display:none;\">\n",
              "        \n",
              "  <svg xmlns=\"http://www.w3.org/2000/svg\" height=\"24px\"viewBox=\"0 0 24 24\"\n",
              "       width=\"24px\">\n",
              "    <path d=\"M0 0h24v24H0V0z\" fill=\"none\"/>\n",
              "    <path d=\"M18.56 5.44l.94 2.06.94-2.06 2.06-.94-2.06-.94-.94-2.06-.94 2.06-2.06.94zm-11 1L8.5 8.5l.94-2.06 2.06-.94-2.06-.94L8.5 2.5l-.94 2.06-2.06.94zm10 10l.94 2.06.94-2.06 2.06-.94-2.06-.94-.94-2.06-.94 2.06-2.06.94z\"/><path d=\"M17.41 7.96l-1.37-1.37c-.4-.4-.92-.59-1.43-.59-.52 0-1.04.2-1.43.59L10.3 9.45l-7.72 7.72c-.78.78-.78 2.05 0 2.83L4 21.41c.39.39.9.59 1.41.59.51 0 1.02-.2 1.41-.59l7.78-7.78 2.81-2.81c.8-.78.8-2.07 0-2.86zM5.41 20L4 18.59l7.72-7.72 1.47 1.35L5.41 20z\"/>\n",
              "  </svg>\n",
              "      </button>\n",
              "      \n",
              "  <style>\n",
              "    .colab-df-container {\n",
              "      display:flex;\n",
              "      flex-wrap:wrap;\n",
              "      gap: 12px;\n",
              "    }\n",
              "\n",
              "    .colab-df-convert {\n",
              "      background-color: #E8F0FE;\n",
              "      border: none;\n",
              "      border-radius: 50%;\n",
              "      cursor: pointer;\n",
              "      display: none;\n",
              "      fill: #1967D2;\n",
              "      height: 32px;\n",
              "      padding: 0 0 0 0;\n",
              "      width: 32px;\n",
              "    }\n",
              "\n",
              "    .colab-df-convert:hover {\n",
              "      background-color: #E2EBFA;\n",
              "      box-shadow: 0px 1px 2px rgba(60, 64, 67, 0.3), 0px 1px 3px 1px rgba(60, 64, 67, 0.15);\n",
              "      fill: #174EA6;\n",
              "    }\n",
              "\n",
              "    [theme=dark] .colab-df-convert {\n",
              "      background-color: #3B4455;\n",
              "      fill: #D2E3FC;\n",
              "    }\n",
              "\n",
              "    [theme=dark] .colab-df-convert:hover {\n",
              "      background-color: #434B5C;\n",
              "      box-shadow: 0px 1px 3px 1px rgba(0, 0, 0, 0.15);\n",
              "      filter: drop-shadow(0px 1px 2px rgba(0, 0, 0, 0.3));\n",
              "      fill: #FFFFFF;\n",
              "    }\n",
              "  </style>\n",
              "\n",
              "      <script>\n",
              "        const buttonEl =\n",
              "          document.querySelector('#df-97dd892b-fd4c-49bb-8fd7-b9ab190cac4c button.colab-df-convert');\n",
              "        buttonEl.style.display =\n",
              "          google.colab.kernel.accessAllowed ? 'block' : 'none';\n",
              "\n",
              "        async function convertToInteractive(key) {\n",
              "          const element = document.querySelector('#df-97dd892b-fd4c-49bb-8fd7-b9ab190cac4c');\n",
              "          const dataTable =\n",
              "            await google.colab.kernel.invokeFunction('convertToInteractive',\n",
              "                                                     [key], {});\n",
              "          if (!dataTable) return;\n",
              "\n",
              "          const docLinkHtml = 'Like what you see? Visit the ' +\n",
              "            '<a target=\"_blank\" href=https://colab.research.google.com/notebooks/data_table.ipynb>data table notebook</a>'\n",
              "            + ' to learn more about interactive tables.';\n",
              "          element.innerHTML = '';\n",
              "          dataTable['output_type'] = 'display_data';\n",
              "          await google.colab.output.renderOutput(dataTable, element);\n",
              "          const docLink = document.createElement('div');\n",
              "          docLink.innerHTML = docLinkHtml;\n",
              "          element.appendChild(docLink);\n",
              "        }\n",
              "      </script>\n",
              "    </div>\n",
              "  </div>\n",
              "  "
            ]
          },
          "metadata": {},
          "execution_count": 12
        }
      ]
    },
    {
      "cell_type": "code",
      "metadata": {
        "colab": {
          "base_uri": "https://localhost:8080/",
          "height": 718
        },
        "id": "NTrIKkaiRqPI",
        "outputId": "30d0c625-d637-4f3f-c6f1-4563410bcbca"
      },
      "source": [
        "predictions = model.run_prediction(unlabeled, output_attributes=True)\n",
        "predictions.head()"
      ],
      "execution_count": 13,
      "outputs": [
        {
          "output_type": "stream",
          "name": "stdout",
          "text": [
            "===>  PREDICT Epoch 8\n"
          ]
        },
        {
          "output_type": "stream",
          "name": "stderr",
          "text": [
            "/usr/local/lib/python3.10/dist-packages/torch/nn/modules/module.py:1319: UserWarning: Using non-full backward hooks on a Module that does not take as input a single Tensor or a tuple of Tensors is deprecated and will be removed in future versions. This hook will be missing some of the grad_input. Please use register_full_backward_hook to get the documented behavior.\n",
            "  warnings.warn(\"Using non-full backward hooks on a Module that does not take as input a \"\n",
            "/usr/local/lib/python3.10/dist-packages/torch/nn/modules/module.py:1344: UserWarning: Using a non-full backward hook when the forward contains multiple autograd Nodes is deprecated and will be removed in future versions. This hook will be missing some grad_input. Please use register_full_backward_hook to get the documented behavior.\n",
            "  warnings.warn(\"Using a non-full backward hook when the forward contains multiple autograd Nodes \"\n",
            "/usr/local/lib/python3.10/dist-packages/torch/nn/modules/module.py:1309: UserWarning: Using non-full backward hooks on a Module that does not return a single Tensor or a tuple of Tensors is deprecated and will be removed in future versions. This hook will be missing some of the grad_output. Please use register_full_backward_hook to get the documented behavior.\n",
            "  warnings.warn(\"Using non-full backward hooks on a Module that does not return a \"\n"
          ]
        },
        {
          "output_type": "stream",
          "name": "stdout",
          "text": [
            "Finished Epoch 8 || Run Time:    1.0 | Load Time:    0.0 || F1:   0.00 | Prec:   0.00 | Rec:   0.00 || Ex/s:   0.00\n",
            "\n"
          ]
        },
        {
          "output_type": "execute_result",
          "data": {
            "text/plain": [
              "     match_score  ltable_id  rtable_id  \\\n",
              "_id                                      \n",
              "31      0.861153         78         11   \n",
              "155     0.958828         38         57   \n",
              "331     0.492066         63        109   \n",
              "274     0.953992         59         94   \n",
              "65      0.424124         27         27   \n",
              "\n",
              "                         ltable_produk_name ltable_produk_harga  \\\n",
              "_id                                                               \n",
              "31   OBH Combi Batuk Plus Flu Menthol 60 ml           Rp 13,500   \n",
              "155                     Decadryl Exp 120 ml           Rp 17,700   \n",
              "331                Mucopect 30 mg Tab 100'S            Rp 4,600   \n",
              "274                             Mucera Drop           Rp 48,800   \n",
              "65               Bisolvon Batuk & Flu 60 ml           Rp 43,800   \n",
              "\n",
              "    ltable_produk_satuan                                   ltable_deskripsi  \\\n",
              "_id                                                                           \n",
              "31                 Botol  Obh combi adalah obat minum dalam bentuk sirup...   \n",
              "155                Botol  Decadryl exp merupakan obat untuk batuk berdah...   \n",
              "331               Tablet  Mucopect mengandung ambroxol yang diindikasika...   \n",
              "274                Botol  Mucera drop adalah obat batuk berdahak yang te...   \n",
              "65                 Botol  Bisolvon adalah obat yang digunakan untuk meng...   \n",
              "\n",
              "                                       ltable_indikasi  \\\n",
              "_id                                                      \n",
              "31   Meredakan batuk yang disertai gejala-gejala fl...   \n",
              "155                       Batuk berdahak karena alergi   \n",
              "331  Infeksi saluran nafas akut, bronkhitis, asma b...   \n",
              "274  Infeksi saluran nafas akut, bronkhitis, asma b...   \n",
              "65                            Meredakan batuk berdahak   \n",
              "\n",
              "                                      ltable_komposisi ltable_dosis  \\\n",
              "_id                                                                   \n",
              "31   Succus liquiritiae 167 mg/5ml, paracetamol 150...          NaN   \n",
              "155  Diphenhydramine 13.5 mg/5ml, ammonium chloride...          NaN   \n",
              "331                                     Ambroxol 30 mg          NaN   \n",
              "274                                  Ambroxol 15 mg/ml          NaN   \n",
              "65   Bromhexine 4 mg, phenylephrine 5 mg, paracetam...          NaN   \n",
              "\n",
              "                          rtable_produk_name rtable_produk_harga  \\\n",
              "_id                                                                \n",
              "31      OBH COMBI DEWASA BATUK FLU MADU 60ML           Rp 13.979   \n",
              "155                   DECADRYL EXP SYR 120ML           Rp 21.357   \n",
              "331    CIPROFLOXACIN HEXPHARM 500MG TAB 100S              Rp 673   \n",
              "274                MUCERA DROP 15MG/1ML 15ML           Rp 54.078   \n",
              "65   OBH COMBI ANAK BATUK FLU RASA APEL 60ML           Rp 15.840   \n",
              "\n",
              "    rtable_produk_satuan                                   rtable_deskripsi  \\\n",
              "_id                                                                           \n",
              "31                 Botol  OBH Combi batuk flu merupakan obat batuk pilek...   \n",
              "155                Botol  Sirup obat batuk pilek yang juga dapat membant...   \n",
              "331               Tablet  CIPROFLOXACIN HEXPHARM 500MG TAB merupakan ant...   \n",
              "274                Botol  Mucera diproduksi oleh PT Otto Pharmaceuticasl...   \n",
              "65                 Botol  Obat batuk pilek dan demam untuk anak dengan r...   \n",
              "\n",
              "                                       rtable_indikasi  \\\n",
              "_id                                                      \n",
              "31   meredakan batuk yang disertai gejala-gejala fl...   \n",
              "155     Untuk meringankan batuk berdahak karena alergi   \n",
              "331  Infeksi saluran kemih, infeksi saluran pernafa...   \n",
              "274  Penyakit saluran nafas akut dan kronis diserta...   \n",
              "65   Meredakan batuk yang disertai gejala-gejala fl...   \n",
              "\n",
              "                                      rtable_komposisi  \\\n",
              "_id                                                      \n",
              "31   succus Liquiritiae Extract 167 mg, Paracetamol...   \n",
              "155  Tiap 5 ml : Diprenhidramin HCL 13,5 mg, amoniu...   \n",
              "331                               Ciprofloxacin 500 mg   \n",
              "274                         Ambroxol HCl 15 mg/ml drop   \n",
              "65   succus Liquiritiae 100 mg, Paracetamol 120 mg,...   \n",
              "\n",
              "                                          rtable_dosis  \n",
              "_id                                                     \n",
              "31      > 12 thn : sehari, 3 x 3 sendok takar (@ 5 ml)  \n",
              "155  Dewasa : 1-2 Sendok takar tiap 3 jam, tidak bo...  \n",
              "331  Infeksi Saluran Kemih (ISK): Ringan - sedang 2...  \n",
              "274  anak 6-12 tahun: 2-3 x sehari 1 ml drops; anak...  \n",
              "65   Umur 2-5 thn : 3 x sehari 1 sendok takar (@ 5 ml)  "
            ],
            "text/html": [
              "\n",
              "  <div id=\"df-05797e9e-e015-4134-a84c-f2be72a4adbe\">\n",
              "    <div class=\"colab-df-container\">\n",
              "      <div>\n",
              "<style scoped>\n",
              "    .dataframe tbody tr th:only-of-type {\n",
              "        vertical-align: middle;\n",
              "    }\n",
              "\n",
              "    .dataframe tbody tr th {\n",
              "        vertical-align: top;\n",
              "    }\n",
              "\n",
              "    .dataframe thead th {\n",
              "        text-align: right;\n",
              "    }\n",
              "</style>\n",
              "<table border=\"1\" class=\"dataframe\">\n",
              "  <thead>\n",
              "    <tr style=\"text-align: right;\">\n",
              "      <th></th>\n",
              "      <th>match_score</th>\n",
              "      <th>ltable_id</th>\n",
              "      <th>rtable_id</th>\n",
              "      <th>ltable_produk_name</th>\n",
              "      <th>ltable_produk_harga</th>\n",
              "      <th>ltable_produk_satuan</th>\n",
              "      <th>ltable_deskripsi</th>\n",
              "      <th>ltable_indikasi</th>\n",
              "      <th>ltable_komposisi</th>\n",
              "      <th>ltable_dosis</th>\n",
              "      <th>rtable_produk_name</th>\n",
              "      <th>rtable_produk_harga</th>\n",
              "      <th>rtable_produk_satuan</th>\n",
              "      <th>rtable_deskripsi</th>\n",
              "      <th>rtable_indikasi</th>\n",
              "      <th>rtable_komposisi</th>\n",
              "      <th>rtable_dosis</th>\n",
              "    </tr>\n",
              "    <tr>\n",
              "      <th>_id</th>\n",
              "      <th></th>\n",
              "      <th></th>\n",
              "      <th></th>\n",
              "      <th></th>\n",
              "      <th></th>\n",
              "      <th></th>\n",
              "      <th></th>\n",
              "      <th></th>\n",
              "      <th></th>\n",
              "      <th></th>\n",
              "      <th></th>\n",
              "      <th></th>\n",
              "      <th></th>\n",
              "      <th></th>\n",
              "      <th></th>\n",
              "      <th></th>\n",
              "      <th></th>\n",
              "    </tr>\n",
              "  </thead>\n",
              "  <tbody>\n",
              "    <tr>\n",
              "      <th>31</th>\n",
              "      <td>0.861153</td>\n",
              "      <td>78</td>\n",
              "      <td>11</td>\n",
              "      <td>OBH Combi Batuk Plus Flu Menthol 60 ml</td>\n",
              "      <td>Rp 13,500</td>\n",
              "      <td>Botol</td>\n",
              "      <td>Obh combi adalah obat minum dalam bentuk sirup...</td>\n",
              "      <td>Meredakan batuk yang disertai gejala-gejala fl...</td>\n",
              "      <td>Succus liquiritiae 167 mg/5ml, paracetamol 150...</td>\n",
              "      <td>NaN</td>\n",
              "      <td>OBH COMBI DEWASA BATUK FLU MADU 60ML</td>\n",
              "      <td>Rp 13.979</td>\n",
              "      <td>Botol</td>\n",
              "      <td>OBH Combi batuk flu merupakan obat batuk pilek...</td>\n",
              "      <td>meredakan batuk yang disertai gejala-gejala fl...</td>\n",
              "      <td>succus Liquiritiae Extract 167 mg, Paracetamol...</td>\n",
              "      <td>&gt; 12 thn : sehari, 3 x 3 sendok takar (@ 5 ml)</td>\n",
              "    </tr>\n",
              "    <tr>\n",
              "      <th>155</th>\n",
              "      <td>0.958828</td>\n",
              "      <td>38</td>\n",
              "      <td>57</td>\n",
              "      <td>Decadryl Exp 120 ml</td>\n",
              "      <td>Rp 17,700</td>\n",
              "      <td>Botol</td>\n",
              "      <td>Decadryl exp merupakan obat untuk batuk berdah...</td>\n",
              "      <td>Batuk berdahak karena alergi</td>\n",
              "      <td>Diphenhydramine 13.5 mg/5ml, ammonium chloride...</td>\n",
              "      <td>NaN</td>\n",
              "      <td>DECADRYL EXP SYR 120ML</td>\n",
              "      <td>Rp 21.357</td>\n",
              "      <td>Botol</td>\n",
              "      <td>Sirup obat batuk pilek yang juga dapat membant...</td>\n",
              "      <td>Untuk meringankan batuk berdahak karena alergi</td>\n",
              "      <td>Tiap 5 ml : Diprenhidramin HCL 13,5 mg, amoniu...</td>\n",
              "      <td>Dewasa : 1-2 Sendok takar tiap 3 jam, tidak bo...</td>\n",
              "    </tr>\n",
              "    <tr>\n",
              "      <th>331</th>\n",
              "      <td>0.492066</td>\n",
              "      <td>63</td>\n",
              "      <td>109</td>\n",
              "      <td>Mucopect 30 mg Tab 100'S</td>\n",
              "      <td>Rp 4,600</td>\n",
              "      <td>Tablet</td>\n",
              "      <td>Mucopect mengandung ambroxol yang diindikasika...</td>\n",
              "      <td>Infeksi saluran nafas akut, bronkhitis, asma b...</td>\n",
              "      <td>Ambroxol 30 mg</td>\n",
              "      <td>NaN</td>\n",
              "      <td>CIPROFLOXACIN HEXPHARM 500MG TAB 100S</td>\n",
              "      <td>Rp 673</td>\n",
              "      <td>Tablet</td>\n",
              "      <td>CIPROFLOXACIN HEXPHARM 500MG TAB merupakan ant...</td>\n",
              "      <td>Infeksi saluran kemih, infeksi saluran pernafa...</td>\n",
              "      <td>Ciprofloxacin 500 mg</td>\n",
              "      <td>Infeksi Saluran Kemih (ISK): Ringan - sedang 2...</td>\n",
              "    </tr>\n",
              "    <tr>\n",
              "      <th>274</th>\n",
              "      <td>0.953992</td>\n",
              "      <td>59</td>\n",
              "      <td>94</td>\n",
              "      <td>Mucera Drop</td>\n",
              "      <td>Rp 48,800</td>\n",
              "      <td>Botol</td>\n",
              "      <td>Mucera drop adalah obat batuk berdahak yang te...</td>\n",
              "      <td>Infeksi saluran nafas akut, bronkhitis, asma b...</td>\n",
              "      <td>Ambroxol 15 mg/ml</td>\n",
              "      <td>NaN</td>\n",
              "      <td>MUCERA DROP 15MG/1ML 15ML</td>\n",
              "      <td>Rp 54.078</td>\n",
              "      <td>Botol</td>\n",
              "      <td>Mucera diproduksi oleh PT Otto Pharmaceuticasl...</td>\n",
              "      <td>Penyakit saluran nafas akut dan kronis diserta...</td>\n",
              "      <td>Ambroxol HCl 15 mg/ml drop</td>\n",
              "      <td>anak 6-12 tahun: 2-3 x sehari 1 ml drops; anak...</td>\n",
              "    </tr>\n",
              "    <tr>\n",
              "      <th>65</th>\n",
              "      <td>0.424124</td>\n",
              "      <td>27</td>\n",
              "      <td>27</td>\n",
              "      <td>Bisolvon Batuk &amp; Flu 60 ml</td>\n",
              "      <td>Rp 43,800</td>\n",
              "      <td>Botol</td>\n",
              "      <td>Bisolvon adalah obat yang digunakan untuk meng...</td>\n",
              "      <td>Meredakan batuk berdahak</td>\n",
              "      <td>Bromhexine 4 mg, phenylephrine 5 mg, paracetam...</td>\n",
              "      <td>NaN</td>\n",
              "      <td>OBH COMBI ANAK BATUK FLU RASA APEL 60ML</td>\n",
              "      <td>Rp 15.840</td>\n",
              "      <td>Botol</td>\n",
              "      <td>Obat batuk pilek dan demam untuk anak dengan r...</td>\n",
              "      <td>Meredakan batuk yang disertai gejala-gejala fl...</td>\n",
              "      <td>succus Liquiritiae 100 mg, Paracetamol 120 mg,...</td>\n",
              "      <td>Umur 2-5 thn : 3 x sehari 1 sendok takar (@ 5 ml)</td>\n",
              "    </tr>\n",
              "  </tbody>\n",
              "</table>\n",
              "</div>\n",
              "      <button class=\"colab-df-convert\" onclick=\"convertToInteractive('df-05797e9e-e015-4134-a84c-f2be72a4adbe')\"\n",
              "              title=\"Convert this dataframe to an interactive table.\"\n",
              "              style=\"display:none;\">\n",
              "        \n",
              "  <svg xmlns=\"http://www.w3.org/2000/svg\" height=\"24px\"viewBox=\"0 0 24 24\"\n",
              "       width=\"24px\">\n",
              "    <path d=\"M0 0h24v24H0V0z\" fill=\"none\"/>\n",
              "    <path d=\"M18.56 5.44l.94 2.06.94-2.06 2.06-.94-2.06-.94-.94-2.06-.94 2.06-2.06.94zm-11 1L8.5 8.5l.94-2.06 2.06-.94-2.06-.94L8.5 2.5l-.94 2.06-2.06.94zm10 10l.94 2.06.94-2.06 2.06-.94-2.06-.94-.94-2.06-.94 2.06-2.06.94z\"/><path d=\"M17.41 7.96l-1.37-1.37c-.4-.4-.92-.59-1.43-.59-.52 0-1.04.2-1.43.59L10.3 9.45l-7.72 7.72c-.78.78-.78 2.05 0 2.83L4 21.41c.39.39.9.59 1.41.59.51 0 1.02-.2 1.41-.59l7.78-7.78 2.81-2.81c.8-.78.8-2.07 0-2.86zM5.41 20L4 18.59l7.72-7.72 1.47 1.35L5.41 20z\"/>\n",
              "  </svg>\n",
              "      </button>\n",
              "      \n",
              "  <style>\n",
              "    .colab-df-container {\n",
              "      display:flex;\n",
              "      flex-wrap:wrap;\n",
              "      gap: 12px;\n",
              "    }\n",
              "\n",
              "    .colab-df-convert {\n",
              "      background-color: #E8F0FE;\n",
              "      border: none;\n",
              "      border-radius: 50%;\n",
              "      cursor: pointer;\n",
              "      display: none;\n",
              "      fill: #1967D2;\n",
              "      height: 32px;\n",
              "      padding: 0 0 0 0;\n",
              "      width: 32px;\n",
              "    }\n",
              "\n",
              "    .colab-df-convert:hover {\n",
              "      background-color: #E2EBFA;\n",
              "      box-shadow: 0px 1px 2px rgba(60, 64, 67, 0.3), 0px 1px 3px 1px rgba(60, 64, 67, 0.15);\n",
              "      fill: #174EA6;\n",
              "    }\n",
              "\n",
              "    [theme=dark] .colab-df-convert {\n",
              "      background-color: #3B4455;\n",
              "      fill: #D2E3FC;\n",
              "    }\n",
              "\n",
              "    [theme=dark] .colab-df-convert:hover {\n",
              "      background-color: #434B5C;\n",
              "      box-shadow: 0px 1px 3px 1px rgba(0, 0, 0, 0.15);\n",
              "      filter: drop-shadow(0px 1px 2px rgba(0, 0, 0, 0.3));\n",
              "      fill: #FFFFFF;\n",
              "    }\n",
              "  </style>\n",
              "\n",
              "      <script>\n",
              "        const buttonEl =\n",
              "          document.querySelector('#df-05797e9e-e015-4134-a84c-f2be72a4adbe button.colab-df-convert');\n",
              "        buttonEl.style.display =\n",
              "          google.colab.kernel.accessAllowed ? 'block' : 'none';\n",
              "\n",
              "        async function convertToInteractive(key) {\n",
              "          const element = document.querySelector('#df-05797e9e-e015-4134-a84c-f2be72a4adbe');\n",
              "          const dataTable =\n",
              "            await google.colab.kernel.invokeFunction('convertToInteractive',\n",
              "                                                     [key], {});\n",
              "          if (!dataTable) return;\n",
              "\n",
              "          const docLinkHtml = 'Like what you see? Visit the ' +\n",
              "            '<a target=\"_blank\" href=https://colab.research.google.com/notebooks/data_table.ipynb>data table notebook</a>'\n",
              "            + ' to learn more about interactive tables.';\n",
              "          element.innerHTML = '';\n",
              "          dataTable['output_type'] = 'display_data';\n",
              "          await google.colab.output.renderOutput(dataTable, element);\n",
              "          const docLink = document.createElement('div');\n",
              "          docLink.innerHTML = docLinkHtml;\n",
              "          element.appendChild(docLink);\n",
              "        }\n",
              "      </script>\n",
              "    </div>\n",
              "  </div>\n",
              "  "
            ]
          },
          "metadata": {},
          "execution_count": 13
        }
      ]
    },
    {
      "cell_type": "code",
      "metadata": {
        "colab": {
          "base_uri": "https://localhost:8080/",
          "height": 478
        },
        "id": "NBqtSZyHSDiy",
        "outputId": "2998861a-080c-44d5-d079-95b0c0f4644e"
      },
      "source": [
        "high_score_pairs = predictions[predictions['match_score'] >= 0.9].sort_values(by=['match_score'], ascending=False)\n",
        "high_score_pairs.head()"
      ],
      "execution_count": 14,
      "outputs": [
        {
          "output_type": "execute_result",
          "data": {
            "text/plain": [
              "     match_score  ltable_id  rtable_id             ltable_produk_name  \\\n",
              "_id                                                                     \n",
              "21      0.992182         80         10   OBH Combi Flu Jahe 60 ml New   \n",
              "155     0.958828         38         57            Decadryl Exp 120 ml   \n",
              "274     0.953992         59         94                    Mucera Drop   \n",
              "334     0.939304        148        110  Ciprofloxacin 500 mg Tab Hexp   \n",
              "\n",
              "    ltable_produk_harga ltable_produk_satuan  \\\n",
              "_id                                            \n",
              "21            Rp 13,500                Botol   \n",
              "155           Rp 17,700                Botol   \n",
              "274           Rp 48,800                Botol   \n",
              "334              Rp 600               tablet   \n",
              "\n",
              "                                      ltable_deskripsi  \\\n",
              "_id                                                      \n",
              "21   Obh combi adalah obat minum dalam bentuk sirup...   \n",
              "155  Decadryl exp merupakan obat untuk batuk berdah...   \n",
              "274  Mucera drop adalah obat batuk berdahak yang te...   \n",
              "334  Ciprofloxacin adalah obat yang masuk dalam kat...   \n",
              "\n",
              "                                       ltable_indikasi  \\\n",
              "_id                                                      \n",
              "21   Meredakan batuk yang disertai gejala-gejala fl...   \n",
              "155                       Batuk berdahak karena alergi   \n",
              "274  Infeksi saluran nafas akut, bronkhitis, asma b...   \n",
              "334  Infeksi saluran pernafasan, infeksi jaringan l...   \n",
              "\n",
              "                                      ltable_komposisi ltable_dosis  \\\n",
              "_id                                                                   \n",
              "21   Succus liquiritiae 167 mg/5ml, paracetamol 150...          NaN   \n",
              "155  Diphenhydramine 13.5 mg/5ml, ammonium chloride...          NaN   \n",
              "274                                  Ambroxol 15 mg/ml          NaN   \n",
              "334                               Ciprofloxacin 500 mg          NaN   \n",
              "\n",
              "                       rtable_produk_name rtable_produk_harga  \\\n",
              "_id                                                             \n",
              "21   OBH COMBI DEWASA BATUK FLU JAHE 60ML           Rp 13.867   \n",
              "155                DECADRYL EXP SYR 120ML           Rp 21.357   \n",
              "274             MUCERA DROP 15MG/1ML 15ML           Rp 54.078   \n",
              "334  CIPROFLOXACIN HEXPHARM 500MG TAB 50S            Rp 1.326   \n",
              "\n",
              "    rtable_produk_satuan                                   rtable_deskripsi  \\\n",
              "_id                                                                           \n",
              "21                 Botol  OBH Combi batuk flu merupakan obat batuk pilek...   \n",
              "155                Botol  Sirup obat batuk pilek yang juga dapat membant...   \n",
              "274                Botol  Mucera diproduksi oleh PT Otto Pharmaceuticasl...   \n",
              "334               Tablet  CIPROFLOXACIN HEXPHARM 500MG TAB berfungsi unt...   \n",
              "\n",
              "                                       rtable_indikasi  \\\n",
              "_id                                                      \n",
              "21   meredakan batuk yang disertai gejala-gejala fl...   \n",
              "155     Untuk meringankan batuk berdahak karena alergi   \n",
              "274  Penyakit saluran nafas akut dan kronis diserta...   \n",
              "334  Infeksi saluran kemih, infeksi saluran pernafa...   \n",
              "\n",
              "                                      rtable_komposisi  \\\n",
              "_id                                                      \n",
              "21   succus Liquiritiae Extract 167 mg, Paracetamol...   \n",
              "155  Tiap 5 ml : Diprenhidramin HCL 13,5 mg, amoniu...   \n",
              "274                         Ambroxol HCl 15 mg/ml drop   \n",
              "334                               Ciprofloxacin 500 mg   \n",
              "\n",
              "                                          rtable_dosis  \n",
              "_id                                                     \n",
              "21   Dewasa dan anak >12 thn : 3 kali sehari 3 send...  \n",
              "155  Dewasa : 1-2 Sendok takar tiap 3 jam, tidak bo...  \n",
              "274  anak 6-12 tahun: 2-3 x sehari 1 ml drops; anak...  \n",
              "334  Infeksi Saluran Kemih (ISK): Ringan - sedang 2...  "
            ],
            "text/html": [
              "\n",
              "  <div id=\"df-9ece42dd-ed42-4e6d-a3eb-5620f2ad6f30\">\n",
              "    <div class=\"colab-df-container\">\n",
              "      <div>\n",
              "<style scoped>\n",
              "    .dataframe tbody tr th:only-of-type {\n",
              "        vertical-align: middle;\n",
              "    }\n",
              "\n",
              "    .dataframe tbody tr th {\n",
              "        vertical-align: top;\n",
              "    }\n",
              "\n",
              "    .dataframe thead th {\n",
              "        text-align: right;\n",
              "    }\n",
              "</style>\n",
              "<table border=\"1\" class=\"dataframe\">\n",
              "  <thead>\n",
              "    <tr style=\"text-align: right;\">\n",
              "      <th></th>\n",
              "      <th>match_score</th>\n",
              "      <th>ltable_id</th>\n",
              "      <th>rtable_id</th>\n",
              "      <th>ltable_produk_name</th>\n",
              "      <th>ltable_produk_harga</th>\n",
              "      <th>ltable_produk_satuan</th>\n",
              "      <th>ltable_deskripsi</th>\n",
              "      <th>ltable_indikasi</th>\n",
              "      <th>ltable_komposisi</th>\n",
              "      <th>ltable_dosis</th>\n",
              "      <th>rtable_produk_name</th>\n",
              "      <th>rtable_produk_harga</th>\n",
              "      <th>rtable_produk_satuan</th>\n",
              "      <th>rtable_deskripsi</th>\n",
              "      <th>rtable_indikasi</th>\n",
              "      <th>rtable_komposisi</th>\n",
              "      <th>rtable_dosis</th>\n",
              "    </tr>\n",
              "    <tr>\n",
              "      <th>_id</th>\n",
              "      <th></th>\n",
              "      <th></th>\n",
              "      <th></th>\n",
              "      <th></th>\n",
              "      <th></th>\n",
              "      <th></th>\n",
              "      <th></th>\n",
              "      <th></th>\n",
              "      <th></th>\n",
              "      <th></th>\n",
              "      <th></th>\n",
              "      <th></th>\n",
              "      <th></th>\n",
              "      <th></th>\n",
              "      <th></th>\n",
              "      <th></th>\n",
              "      <th></th>\n",
              "    </tr>\n",
              "  </thead>\n",
              "  <tbody>\n",
              "    <tr>\n",
              "      <th>21</th>\n",
              "      <td>0.992182</td>\n",
              "      <td>80</td>\n",
              "      <td>10</td>\n",
              "      <td>OBH Combi Flu Jahe 60 ml New</td>\n",
              "      <td>Rp 13,500</td>\n",
              "      <td>Botol</td>\n",
              "      <td>Obh combi adalah obat minum dalam bentuk sirup...</td>\n",
              "      <td>Meredakan batuk yang disertai gejala-gejala fl...</td>\n",
              "      <td>Succus liquiritiae 167 mg/5ml, paracetamol 150...</td>\n",
              "      <td>NaN</td>\n",
              "      <td>OBH COMBI DEWASA BATUK FLU JAHE 60ML</td>\n",
              "      <td>Rp 13.867</td>\n",
              "      <td>Botol</td>\n",
              "      <td>OBH Combi batuk flu merupakan obat batuk pilek...</td>\n",
              "      <td>meredakan batuk yang disertai gejala-gejala fl...</td>\n",
              "      <td>succus Liquiritiae Extract 167 mg, Paracetamol...</td>\n",
              "      <td>Dewasa dan anak &gt;12 thn : 3 kali sehari 3 send...</td>\n",
              "    </tr>\n",
              "    <tr>\n",
              "      <th>155</th>\n",
              "      <td>0.958828</td>\n",
              "      <td>38</td>\n",
              "      <td>57</td>\n",
              "      <td>Decadryl Exp 120 ml</td>\n",
              "      <td>Rp 17,700</td>\n",
              "      <td>Botol</td>\n",
              "      <td>Decadryl exp merupakan obat untuk batuk berdah...</td>\n",
              "      <td>Batuk berdahak karena alergi</td>\n",
              "      <td>Diphenhydramine 13.5 mg/5ml, ammonium chloride...</td>\n",
              "      <td>NaN</td>\n",
              "      <td>DECADRYL EXP SYR 120ML</td>\n",
              "      <td>Rp 21.357</td>\n",
              "      <td>Botol</td>\n",
              "      <td>Sirup obat batuk pilek yang juga dapat membant...</td>\n",
              "      <td>Untuk meringankan batuk berdahak karena alergi</td>\n",
              "      <td>Tiap 5 ml : Diprenhidramin HCL 13,5 mg, amoniu...</td>\n",
              "      <td>Dewasa : 1-2 Sendok takar tiap 3 jam, tidak bo...</td>\n",
              "    </tr>\n",
              "    <tr>\n",
              "      <th>274</th>\n",
              "      <td>0.953992</td>\n",
              "      <td>59</td>\n",
              "      <td>94</td>\n",
              "      <td>Mucera Drop</td>\n",
              "      <td>Rp 48,800</td>\n",
              "      <td>Botol</td>\n",
              "      <td>Mucera drop adalah obat batuk berdahak yang te...</td>\n",
              "      <td>Infeksi saluran nafas akut, bronkhitis, asma b...</td>\n",
              "      <td>Ambroxol 15 mg/ml</td>\n",
              "      <td>NaN</td>\n",
              "      <td>MUCERA DROP 15MG/1ML 15ML</td>\n",
              "      <td>Rp 54.078</td>\n",
              "      <td>Botol</td>\n",
              "      <td>Mucera diproduksi oleh PT Otto Pharmaceuticasl...</td>\n",
              "      <td>Penyakit saluran nafas akut dan kronis diserta...</td>\n",
              "      <td>Ambroxol HCl 15 mg/ml drop</td>\n",
              "      <td>anak 6-12 tahun: 2-3 x sehari 1 ml drops; anak...</td>\n",
              "    </tr>\n",
              "    <tr>\n",
              "      <th>334</th>\n",
              "      <td>0.939304</td>\n",
              "      <td>148</td>\n",
              "      <td>110</td>\n",
              "      <td>Ciprofloxacin 500 mg Tab Hexp</td>\n",
              "      <td>Rp 600</td>\n",
              "      <td>tablet</td>\n",
              "      <td>Ciprofloxacin adalah obat yang masuk dalam kat...</td>\n",
              "      <td>Infeksi saluran pernafasan, infeksi jaringan l...</td>\n",
              "      <td>Ciprofloxacin 500 mg</td>\n",
              "      <td>NaN</td>\n",
              "      <td>CIPROFLOXACIN HEXPHARM 500MG TAB 50S</td>\n",
              "      <td>Rp 1.326</td>\n",
              "      <td>Tablet</td>\n",
              "      <td>CIPROFLOXACIN HEXPHARM 500MG TAB berfungsi unt...</td>\n",
              "      <td>Infeksi saluran kemih, infeksi saluran pernafa...</td>\n",
              "      <td>Ciprofloxacin 500 mg</td>\n",
              "      <td>Infeksi Saluran Kemih (ISK): Ringan - sedang 2...</td>\n",
              "    </tr>\n",
              "  </tbody>\n",
              "</table>\n",
              "</div>\n",
              "      <button class=\"colab-df-convert\" onclick=\"convertToInteractive('df-9ece42dd-ed42-4e6d-a3eb-5620f2ad6f30')\"\n",
              "              title=\"Convert this dataframe to an interactive table.\"\n",
              "              style=\"display:none;\">\n",
              "        \n",
              "  <svg xmlns=\"http://www.w3.org/2000/svg\" height=\"24px\"viewBox=\"0 0 24 24\"\n",
              "       width=\"24px\">\n",
              "    <path d=\"M0 0h24v24H0V0z\" fill=\"none\"/>\n",
              "    <path d=\"M18.56 5.44l.94 2.06.94-2.06 2.06-.94-2.06-.94-.94-2.06-.94 2.06-2.06.94zm-11 1L8.5 8.5l.94-2.06 2.06-.94-2.06-.94L8.5 2.5l-.94 2.06-2.06.94zm10 10l.94 2.06.94-2.06 2.06-.94-2.06-.94-.94-2.06-.94 2.06-2.06.94z\"/><path d=\"M17.41 7.96l-1.37-1.37c-.4-.4-.92-.59-1.43-.59-.52 0-1.04.2-1.43.59L10.3 9.45l-7.72 7.72c-.78.78-.78 2.05 0 2.83L4 21.41c.39.39.9.59 1.41.59.51 0 1.02-.2 1.41-.59l7.78-7.78 2.81-2.81c.8-.78.8-2.07 0-2.86zM5.41 20L4 18.59l7.72-7.72 1.47 1.35L5.41 20z\"/>\n",
              "  </svg>\n",
              "      </button>\n",
              "      \n",
              "  <style>\n",
              "    .colab-df-container {\n",
              "      display:flex;\n",
              "      flex-wrap:wrap;\n",
              "      gap: 12px;\n",
              "    }\n",
              "\n",
              "    .colab-df-convert {\n",
              "      background-color: #E8F0FE;\n",
              "      border: none;\n",
              "      border-radius: 50%;\n",
              "      cursor: pointer;\n",
              "      display: none;\n",
              "      fill: #1967D2;\n",
              "      height: 32px;\n",
              "      padding: 0 0 0 0;\n",
              "      width: 32px;\n",
              "    }\n",
              "\n",
              "    .colab-df-convert:hover {\n",
              "      background-color: #E2EBFA;\n",
              "      box-shadow: 0px 1px 2px rgba(60, 64, 67, 0.3), 0px 1px 3px 1px rgba(60, 64, 67, 0.15);\n",
              "      fill: #174EA6;\n",
              "    }\n",
              "\n",
              "    [theme=dark] .colab-df-convert {\n",
              "      background-color: #3B4455;\n",
              "      fill: #D2E3FC;\n",
              "    }\n",
              "\n",
              "    [theme=dark] .colab-df-convert:hover {\n",
              "      background-color: #434B5C;\n",
              "      box-shadow: 0px 1px 3px 1px rgba(0, 0, 0, 0.15);\n",
              "      filter: drop-shadow(0px 1px 2px rgba(0, 0, 0, 0.3));\n",
              "      fill: #FFFFFF;\n",
              "    }\n",
              "  </style>\n",
              "\n",
              "      <script>\n",
              "        const buttonEl =\n",
              "          document.querySelector('#df-9ece42dd-ed42-4e6d-a3eb-5620f2ad6f30 button.colab-df-convert');\n",
              "        buttonEl.style.display =\n",
              "          google.colab.kernel.accessAllowed ? 'block' : 'none';\n",
              "\n",
              "        async function convertToInteractive(key) {\n",
              "          const element = document.querySelector('#df-9ece42dd-ed42-4e6d-a3eb-5620f2ad6f30');\n",
              "          const dataTable =\n",
              "            await google.colab.kernel.invokeFunction('convertToInteractive',\n",
              "                                                     [key], {});\n",
              "          if (!dataTable) return;\n",
              "\n",
              "          const docLinkHtml = 'Like what you see? Visit the ' +\n",
              "            '<a target=\"_blank\" href=https://colab.research.google.com/notebooks/data_table.ipynb>data table notebook</a>'\n",
              "            + ' to learn more about interactive tables.';\n",
              "          element.innerHTML = '';\n",
              "          dataTable['output_type'] = 'display_data';\n",
              "          await google.colab.output.renderOutput(dataTable, element);\n",
              "          const docLink = document.createElement('div');\n",
              "          docLink.innerHTML = docLinkHtml;\n",
              "          element.appendChild(docLink);\n",
              "        }\n",
              "      </script>\n",
              "    </div>\n",
              "  </div>\n",
              "  "
            ]
          },
          "metadata": {},
          "execution_count": 14
        }
      ]
    },
    {
      "cell_type": "code",
      "metadata": {
        "id": "MFOMJi_oSQ42"
      },
      "source": [
        "predictions.to_csv('unlabeled_predictions.csv')"
      ],
      "execution_count": 15,
      "outputs": []
    }
  ]
}