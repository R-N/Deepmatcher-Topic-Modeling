{
  "nbformat": 4,
  "nbformat_minor": 0,
  "metadata": {
    "colab": {
      "name": "Salinan dari Selamat Datang di Colaboratory",
      "provenance": [],
      "collapsed_sections": [],
      "toc_visible": true
    },
    "kernelspec": {
      "display_name": "Python 3",
      "name": "python3"
    }
  },
  "cells": [
    {
      "cell_type": "code",
      "metadata": {
        "colab": {
          "base_uri": "https://localhost:8080/"
        },
        "id": "UcE2tXHeLODR",
        "outputId": "bf397fdf-a8da-46c0-a6df-7eb2148e0015"
      },
      "source": [
        "try:\r\n",
        "    import deepmatcher\r\n",
        "except:\r\n",
        "    !pip install -qqq deepmatcher"
      ],
      "execution_count": 1,
      "outputs": [
        {
          "output_type": "stream",
          "text": [
            "\u001b[K     |████████████████████████████████| 51kB 3.5MB/s \n",
            "\u001b[K     |████████████████████████████████| 51kB 4.5MB/s \n",
            "\u001b[K     |████████████████████████████████| 194kB 11.2MB/s \n",
            "\u001b[?25h  Building wheel for deepmatcher (setup.py) ... \u001b[?25l\u001b[?25hdone\n",
            "  Building wheel for fasttextmirror (setup.py) ... \u001b[?25lerror\n",
            "\u001b[31m  ERROR: Failed building wheel for fasttextmirror\u001b[0m\n",
            "\u001b[?25h    Running setup.py install for fasttextmirror ... \u001b[?25l\u001b[?25hdone\n"
          ],
          "name": "stdout"
        }
      ]
    },
    {
      "cell_type": "code",
      "metadata": {
        "colab": {
          "base_uri": "https://localhost:8080/"
        },
        "id": "kgBJKbJzLjyn",
        "outputId": "45bb1b7f-0511-4c2b-c88a-09153df474a6"
      },
      "source": [
        "import deepmatcher as dm\r\n",
        "import torch\r\n",
        "import os\r\n",
        "\r\n",
        "torch.cuda.is_available()"
      ],
      "execution_count": 2,
      "outputs": [
        {
          "output_type": "execute_result",
          "data": {
            "text/plain": [
              "False"
            ]
          },
          "metadata": {
            "tags": []
          },
          "execution_count": 2
        }
      ]
    },
    {
      "cell_type": "code",
      "metadata": {
        "colab": {
          "base_uri": "https://localhost:8080/"
        },
        "id": "tNr8wGZVLptm",
        "outputId": "b586a8b9-8971-45b3-9483-ffb920b8d6ca"
      },
      "source": [
        "train, validation, test = dm.data.process(\r\n",
        "    path=os.path.join('.'),\r\n",
        "    cache='train_cache.pth',\r\n",
        "    train='train.csv',\r\n",
        "    validation='valid.csv',\r\n",
        "    test='test.csv',\r\n",
        "    use_magellan_convention=True,\r\n",
        "    ignore_columns=('ltable_id', 'rtable_id'))"
      ],
      "execution_count": 4,
      "outputs": [
        {
          "output_type": "stream",
          "text": [
            "\n",
            "Reading and processing data from \"./train.csv\"\n",
            "0% [##########                    ] 100% | ETA: 00:00:01\n",
            "Reading and processing data from \"./valid.csv\"\n",
            "0% [##########                    ] 100% | ETA: 00:00:00\n",
            "Reading and processing data from \"./test.csv\"\n",
            "0% [###########                   ] 100% | ETA: 00:00:00INFO:deepmatcher.data.field:Downloading vectors from https://drive.google.com/uc?export=download&id=1Vih8gAmgBnuYDxfblbT94P6WjB7s1ZSh\n"
          ],
          "name": "stderr"
        },
        {
          "output_type": "stream",
          "text": [
            "downloading from Google Drive; may take a few minutes\n"
          ],
          "name": "stdout"
        },
        {
          "output_type": "stream",
          "text": [
            "wiki.en.bin: 8.49GB [02:01, 69.7MB/s]\n",
            "INFO:deepmatcher.data.field:Extracting vectors into /root/.vector_cache\n",
            "\n",
            "Building vocabulary\n",
            "0% [#] 100% | ETA: 00:00:00\n",
            "Total time elapsed: 00:00:00\n",
            "\n",
            "Computing principal components\n",
            "/usr/local/lib/python3.6/dist-packages/deepmatcher/batch.py:51: ResourceWarning: unclosed <ssl.SSLSocket fd=64, family=AddressFamily.AF_INET, type=SocketKind.SOCK_STREAM, proto=6, laddr=('172.28.0.2', 51006), raddr=('74.125.195.138', 443)>\n",
            "  [[raw_word_probs[int(w)] for w in b] for b in data.data])\n",
            "/usr/local/lib/python3.6/dist-packages/deepmatcher/batch.py:51: ResourceWarning: unclosed <ssl.SSLSocket fd=62, family=AddressFamily.AF_INET, type=SocketKind.SOCK_STREAM, proto=6, laddr=('172.28.0.2', 48974), raddr=('74.125.20.139', 443)>\n",
            "  [[raw_word_probs[int(w)] for w in b] for b in data.data])\n",
            "/usr/local/lib/python3.6/dist-packages/deepmatcher/batch.py:51: ResourceWarning: unclosed <ssl.SSLSocket fd=63, family=AddressFamily.AF_INET, type=SocketKind.SOCK_STREAM, proto=6, laddr=('172.28.0.2', 53180), raddr=('74.125.142.132', 443)>\n",
            "  [[raw_word_probs[int(w)] for w in b] for b in data.data])\n",
            "0% [#] 100% | ETA: 00:00:00\n",
            "Total time elapsed: 00:00:01\n"
          ],
          "name": "stderr"
        }
      ]
    },
    {
      "cell_type": "code",
      "metadata": {
        "colab": {
          "base_uri": "https://localhost:8080/",
          "height": 496
        },
        "id": "z9DGVMdiNMPW",
        "outputId": "83cc932c-f5fd-4954-cecc-11d9cf6e5108"
      },
      "source": [
        "train_table = train.get_raw_table()\r\n",
        "train_table.head()"
      ],
      "execution_count": 5,
      "outputs": [
        {
          "output_type": "execute_result",
          "data": {
            "text/html": [
              "<div>\n",
              "<style scoped>\n",
              "    .dataframe tbody tr th:only-of-type {\n",
              "        vertical-align: middle;\n",
              "    }\n",
              "\n",
              "    .dataframe tbody tr th {\n",
              "        vertical-align: top;\n",
              "    }\n",
              "\n",
              "    .dataframe thead th {\n",
              "        text-align: right;\n",
              "    }\n",
              "</style>\n",
              "<table border=\"1\" class=\"dataframe\">\n",
              "  <thead>\n",
              "    <tr style=\"text-align: right;\">\n",
              "      <th></th>\n",
              "      <th>_id</th>\n",
              "      <th>label</th>\n",
              "      <th>ltable_produk_name</th>\n",
              "      <th>ltable_produk_harga</th>\n",
              "      <th>ltable_produk_satuan</th>\n",
              "      <th>ltable_deskripsi</th>\n",
              "      <th>ltable_indikasi</th>\n",
              "      <th>ltable_komposisi</th>\n",
              "      <th>ltable_dosis</th>\n",
              "      <th>rtable_produk_name</th>\n",
              "      <th>rtable_produk_harga</th>\n",
              "      <th>rtable_produk_satuan</th>\n",
              "      <th>rtable_deskripsi</th>\n",
              "      <th>rtable_indikasi</th>\n",
              "      <th>rtable_komposisi</th>\n",
              "      <th>rtable_dosis</th>\n",
              "    </tr>\n",
              "  </thead>\n",
              "  <tbody>\n",
              "    <tr>\n",
              "      <th>0</th>\n",
              "      <td>340</td>\n",
              "      <td>0</td>\n",
              "      <td>ciprofloxacin 500 mg tab hexp</td>\n",
              "      <td>rp 600</td>\n",
              "      <td>tablet</td>\n",
              "      <td>ciprofloxacin adalah obat yang masuk dalam kat...</td>\n",
              "      <td>infeksi saluran pernafasan , infeksi jaringan ...</td>\n",
              "      <td>ciprofloxacin 500 mg</td>\n",
              "      <td></td>\n",
              "      <td>ciprofloxacin kf 500mg tab 50s</td>\n",
              "      <td>rp 768</td>\n",
              "      <td>tablet</td>\n",
              "      <td>ciprofloxacin kf 500mg tab digunakan untuk men...</td>\n",
              "      <td>infeksi saluran kemih , infeksi saluran pernaf...</td>\n",
              "      <td>ciprofloxacin 500 mg</td>\n",
              "      <td>infeksi saluran kemih ( isk ) : ringan - sedan...</td>\n",
              "    </tr>\n",
              "    <tr>\n",
              "      <th>1</th>\n",
              "      <td>30</td>\n",
              "      <td>0</td>\n",
              "      <td>obh combi batuk plus flu menthol 100 ml</td>\n",
              "      <td>rp 18,700</td>\n",
              "      <td>botol</td>\n",
              "      <td>obh combi adalah obat minum dalam bentuk sirup...</td>\n",
              "      <td>meredakan batuk yang disertai gejala-gejala fl...</td>\n",
              "      <td>succus liquiritiae 167 mg/5ml , paracetamol 15...</td>\n",
              "      <td></td>\n",
              "      <td>obh combi dewasa batuk flu madu 60ml</td>\n",
              "      <td>rp 13.979</td>\n",
              "      <td>botol</td>\n",
              "      <td>obh combi batuk flu merupakan obat batuk pilek...</td>\n",
              "      <td>meredakan batuk yang disertai gejala-gejala fl...</td>\n",
              "      <td>succus liquiritiae extract 167 mg , paracetamo...</td>\n",
              "      <td>&gt; 12 thn : sehari , 3 x 3 sendok takar ( @ 5 ml )</td>\n",
              "    </tr>\n",
              "    <tr>\n",
              "      <th>2</th>\n",
              "      <td>19</td>\n",
              "      <td>1</td>\n",
              "      <td>obh combi batuk plus flu menthol 60 ml</td>\n",
              "      <td>rp 13,500</td>\n",
              "      <td>botol</td>\n",
              "      <td>obh combi adalah obat minum dalam bentuk sirup...</td>\n",
              "      <td>meredakan batuk yang disertai gejala-gejala fl...</td>\n",
              "      <td>succus liquiritiae 167 mg/5ml , paracetamol 15...</td>\n",
              "      <td></td>\n",
              "      <td>obh combi dewasa batuk flu jahe 60ml</td>\n",
              "      <td>rp 13.867</td>\n",
              "      <td>botol</td>\n",
              "      <td>obh combi batuk flu merupakan obat batuk pilek...</td>\n",
              "      <td>meredakan batuk yang disertai gejala-gejala fl...</td>\n",
              "      <td>succus liquiritiae extract 167 mg , paracetamo...</td>\n",
              "      <td>dewasa dan anak &gt; 12 thn : 3 kali sehari 3 sen...</td>\n",
              "    </tr>\n",
              "    <tr>\n",
              "      <th>3</th>\n",
              "      <td>212</td>\n",
              "      <td>0</td>\n",
              "      <td>flagyl oral suspensi 60 ml</td>\n",
              "      <td>rp 77,000</td>\n",
              "      <td>botol</td>\n",
              "      <td>flagyl merupakan obat yang mengandung antibiot...</td>\n",
              "      <td>pengobatan uretritis , vaginitis karena parasi...</td>\n",
              "      <td>tiap 5 ml : metronidazole 125 mg</td>\n",
              "      <td>usus amoebiasis : 750 mg , tiga kali sehari se...</td>\n",
              "      <td>allerin ekspektoran syr 60 ml</td>\n",
              "      <td>rp 14.340</td>\n",
              "      <td>botol</td>\n",
              "      <td>mengatasi batuk berdahak karena adanya iritasi...</td>\n",
              "      <td>batuk berdahak karena adanya iritasi , alergi ...</td>\n",
              "      <td>gliserilguaiakolat 50 mg , na-sitrat 180 mg , ...</td>\n",
              "      <td>dewasa 1â½-2 sdt 3-4 kali per hari anak 7-12 t...</td>\n",
              "    </tr>\n",
              "    <tr>\n",
              "      <th>4</th>\n",
              "      <td>124</td>\n",
              "      <td>0</td>\n",
              "      <td>sanadryl dmp sirup 120 ml</td>\n",
              "      <td>rp 26,600</td>\n",
              "      <td>botol</td>\n",
              "      <td>sanadryl dmp adalah obat untuk mengatasi batuk...</td>\n",
              "      <td>meredakan batuk kering akibat alergi</td>\n",
              "      <td>dextromethorphan hbr 10 mg/5ml , diphenhydrami...</td>\n",
              "      <td></td>\n",
              "      <td>sanaflu plus batuk sirup 60 ml</td>\n",
              "      <td>rp 11.817</td>\n",
              "      <td>botol</td>\n",
              "      <td>sanaflu plus batuk syrup merupakan produk obat...</td>\n",
              "      <td>influenza , demam , pilek</td>\n",
              "      <td>per 5 ml : paracetamol 120 mg , dextromethorph...</td>\n",
              "      <td>dewasa : 3-4 kali sehari 4 sendok takar ( 20 m...</td>\n",
              "    </tr>\n",
              "  </tbody>\n",
              "</table>\n",
              "</div>"
            ],
            "text/plain": [
              "   _id  ...                                       rtable_dosis\n",
              "0  340  ...  infeksi saluran kemih ( isk ) : ringan - sedan...\n",
              "1   30  ...  > 12 thn : sehari , 3 x 3 sendok takar ( @ 5 ml )\n",
              "2   19  ...  dewasa dan anak > 12 thn : 3 kali sehari 3 sen...\n",
              "3  212  ...  dewasa 1â½-2 sdt 3-4 kali per hari anak 7-12 t...\n",
              "4  124  ...  dewasa : 3-4 kali sehari 4 sendok takar ( 20 m...\n",
              "\n",
              "[5 rows x 16 columns]"
            ]
          },
          "metadata": {
            "tags": []
          },
          "execution_count": 5
        }
      ]
    },
    {
      "cell_type": "code",
      "metadata": {
        "colab": {
          "base_uri": "https://localhost:8080/"
        },
        "id": "tDAvFSG7NfiQ",
        "outputId": "9b3f5df5-c309-47e5-975f-c2dfb3c4a0d9"
      },
      "source": [
        "model = dm.MatchingModel(attr_summarizer='hybrid')\r\n",
        "\r\n",
        "model.run_train(\r\n",
        "    train,\r\n",
        "    validation,\r\n",
        "    epochs=10,\r\n",
        "    batch_size=16,\r\n",
        "    best_save_path='hybrid_model.pth',\r\n",
        "    pos_neg_ratio=17)"
      ],
      "execution_count": 6,
      "outputs": [
        {
          "output_type": "stream",
          "text": [
            "* Number of trainable parameters: 15560809\n",
            "===>  TRAIN Epoch 1\n"
          ],
          "name": "stdout"
        },
        {
          "output_type": "stream",
          "text": [
            "/usr/local/lib/python3.6/dist-packages/torch/nn/functional.py:2398: UserWarning: reduction: 'mean' divides the total loss by both the batch size and the support size.'batchmean' divides only by the batch size, and aligns with the KL div math definition.'mean' will be changed to behave the same as 'batchmean' in the next major release.\n",
            "  warnings.warn(\"reduction: 'mean' divides the total loss by both the batch size and the support size.\"\n",
            "0% [███] 100% | ETA: 00:00:00\n",
            "Total time elapsed: 00:01:31\n"
          ],
          "name": "stderr"
        },
        {
          "output_type": "stream",
          "text": [
            "Finished Epoch 1 || Run Time:  105.8 | Load Time:    0.4 || F1:  13.21 | Prec:   7.07 | Rec: 100.00 || Ex/s:   2.47\n",
            "\n",
            "===>  EVAL Epoch 1\n"
          ],
          "name": "stdout"
        },
        {
          "output_type": "stream",
          "text": [
            "0% [█] 100% | ETA: 00:00:00\n",
            "Total time elapsed: 00:00:08\n"
          ],
          "name": "stderr"
        },
        {
          "output_type": "stream",
          "text": [
            "Finished Epoch 1 || Run Time:    9.2 | Load Time:    0.1 || F1:   0.00 | Prec:   0.00 | Rec:   0.00 || Ex/s:   9.30\n",
            "\n",
            "* Best F1: tensor(0.)\n",
            "Saving best model...\n",
            "Done.\n",
            "---------------------\n",
            "\n",
            "===>  TRAIN Epoch 2\n"
          ],
          "name": "stdout"
        },
        {
          "output_type": "stream",
          "text": [
            "0% [███] 100% | ETA: 00:00:00\n",
            "Total time elapsed: 00:01:17\n"
          ],
          "name": "stderr"
        },
        {
          "output_type": "stream",
          "text": [
            "Finished Epoch 2 || Run Time:   88.9 | Load Time:    0.5 || F1:   8.74 | Prec:   4.69 | Rec:  64.29 || Ex/s:   2.93\n",
            "\n",
            "===>  EVAL Epoch 2\n"
          ],
          "name": "stdout"
        },
        {
          "output_type": "stream",
          "text": [
            "0% [█] 100% | ETA: 00:00:00\n",
            "Total time elapsed: 00:00:08\n"
          ],
          "name": "stderr"
        },
        {
          "output_type": "stream",
          "text": [
            "Finished Epoch 2 || Run Time:    8.9 | Load Time:    0.1 || F1:  10.87 | Prec:   5.75 | Rec: 100.00 || Ex/s:   9.61\n",
            "\n",
            "* Best F1: tensor(10.8696)\n",
            "Saving best model...\n",
            "Done.\n",
            "---------------------\n",
            "\n",
            "===>  TRAIN Epoch 3\n"
          ],
          "name": "stdout"
        },
        {
          "output_type": "stream",
          "text": [
            "0% [███] 100% | ETA: 00:00:00\n",
            "Total time elapsed: 00:01:14\n"
          ],
          "name": "stderr"
        },
        {
          "output_type": "stream",
          "text": [
            "Finished Epoch 3 || Run Time:   86.1 | Load Time:    0.5 || F1:  11.38 | Prec:   6.03 | Rec: 100.00 || Ex/s:   3.03\n",
            "\n",
            "===>  EVAL Epoch 3\n"
          ],
          "name": "stdout"
        },
        {
          "output_type": "stream",
          "text": [
            "0% [█] 100% | ETA: 00:00:00\n",
            "Total time elapsed: 00:00:08\n"
          ],
          "name": "stderr"
        },
        {
          "output_type": "stream",
          "text": [
            "Finished Epoch 3 || Run Time:    8.7 | Load Time:    0.1 || F1:  11.36 | Prec:   6.02 | Rec: 100.00 || Ex/s:   9.79\n",
            "\n",
            "* Best F1: tensor(11.3636)\n",
            "Saving best model...\n",
            "Done.\n",
            "---------------------\n",
            "\n",
            "===>  TRAIN Epoch 4\n"
          ],
          "name": "stdout"
        },
        {
          "output_type": "stream",
          "text": [
            "0% [███] 100% | ETA: 00:00:00\n",
            "Total time elapsed: 00:01:13\n"
          ],
          "name": "stderr"
        },
        {
          "output_type": "stream",
          "text": [
            "Finished Epoch 4 || Run Time:   85.4 | Load Time:    0.4 || F1:  11.11 | Prec:   5.88 | Rec: 100.00 || Ex/s:   3.05\n",
            "\n",
            "===>  EVAL Epoch 4\n"
          ],
          "name": "stdout"
        },
        {
          "output_type": "stream",
          "text": [
            "0% [█] 100% | ETA: 00:00:00\n",
            "Total time elapsed: 00:00:08\n"
          ],
          "name": "stderr"
        },
        {
          "output_type": "stream",
          "text": [
            "Finished Epoch 4 || Run Time:    9.0 | Load Time:    0.1 || F1:  12.66 | Prec:   6.76 | Rec: 100.00 || Ex/s:   9.49\n",
            "\n",
            "* Best F1: tensor(12.6582)\n",
            "Saving best model...\n",
            "Done.\n",
            "---------------------\n",
            "\n",
            "===>  TRAIN Epoch 5\n"
          ],
          "name": "stdout"
        },
        {
          "output_type": "stream",
          "text": [
            "0% [███] 100% | ETA: 00:00:00\n",
            "Total time elapsed: 00:01:16\n"
          ],
          "name": "stderr"
        },
        {
          "output_type": "stream",
          "text": [
            "Finished Epoch 5 || Run Time:   88.4 | Load Time:    0.5 || F1:  11.86 | Prec:   6.31 | Rec: 100.00 || Ex/s:   2.95\n",
            "\n",
            "===>  EVAL Epoch 5\n"
          ],
          "name": "stdout"
        },
        {
          "output_type": "stream",
          "text": [
            "0% [█] 100% | ETA: 00:00:00\n",
            "Total time elapsed: 00:00:08\n"
          ],
          "name": "stderr"
        },
        {
          "output_type": "stream",
          "text": [
            "Finished Epoch 5 || Run Time:    9.0 | Load Time:    0.2 || F1:  12.99 | Prec:   6.94 | Rec: 100.00 || Ex/s:   9.50\n",
            "\n",
            "* Best F1: tensor(12.9870)\n",
            "Saving best model...\n",
            "Done.\n",
            "---------------------\n",
            "\n",
            "===>  TRAIN Epoch 6\n"
          ],
          "name": "stdout"
        },
        {
          "output_type": "stream",
          "text": [
            "0% [███] 100% | ETA: 00:00:00\n",
            "Total time elapsed: 00:01:15\n"
          ],
          "name": "stderr"
        },
        {
          "output_type": "stream",
          "text": [
            "Finished Epoch 6 || Run Time:   87.7 | Load Time:    0.5 || F1:  13.66 | Prec:   7.33 | Rec: 100.00 || Ex/s:   2.97\n",
            "\n",
            "===>  EVAL Epoch 6\n"
          ],
          "name": "stdout"
        },
        {
          "output_type": "stream",
          "text": [
            "0% [█] 100% | ETA: 00:00:00\n",
            "Total time elapsed: 00:00:08\n"
          ],
          "name": "stderr"
        },
        {
          "output_type": "stream",
          "text": [
            "Finished Epoch 6 || Run Time:    9.0 | Load Time:    0.1 || F1:  15.15 | Prec:   8.20 | Rec: 100.00 || Ex/s:   9.54\n",
            "\n",
            "* Best F1: tensor(15.1515)\n",
            "Saving best model...\n",
            "Done.\n",
            "---------------------\n",
            "\n",
            "===>  TRAIN Epoch 7\n"
          ],
          "name": "stdout"
        },
        {
          "output_type": "stream",
          "text": [
            "0% [███] 100% | ETA: 00:00:00\n",
            "Total time elapsed: 00:01:13\n"
          ],
          "name": "stderr"
        },
        {
          "output_type": "stream",
          "text": [
            "Finished Epoch 7 || Run Time:   86.2 | Load Time:    0.4 || F1:  16.18 | Prec:   8.81 | Rec: 100.00 || Ex/s:   3.02\n",
            "\n",
            "===>  EVAL Epoch 7\n"
          ],
          "name": "stdout"
        },
        {
          "output_type": "stream",
          "text": [
            "0% [█] 100% | ETA: 00:00:00\n",
            "Total time elapsed: 00:00:08\n"
          ],
          "name": "stderr"
        },
        {
          "output_type": "stream",
          "text": [
            "Finished Epoch 7 || Run Time:    9.0 | Load Time:    0.1 || F1:  20.00 | Prec:  11.11 | Rec: 100.00 || Ex/s:   9.49\n",
            "\n",
            "* Best F1: tensor(20.0000)\n",
            "Saving best model...\n",
            "Done.\n",
            "---------------------\n",
            "\n",
            "===>  TRAIN Epoch 8\n"
          ],
          "name": "stdout"
        },
        {
          "output_type": "stream",
          "text": [
            "0% [███] 100% | ETA: 00:00:00\n",
            "Total time elapsed: 00:01:16\n"
          ],
          "name": "stderr"
        },
        {
          "output_type": "stream",
          "text": [
            "Finished Epoch 8 || Run Time:   88.4 | Load Time:    0.5 || F1:  20.44 | Prec:  11.38 | Rec: 100.00 || Ex/s:   2.95\n",
            "\n",
            "===>  EVAL Epoch 8\n"
          ],
          "name": "stdout"
        },
        {
          "output_type": "stream",
          "text": [
            "0% [█] 100% | ETA: 00:00:00\n",
            "Total time elapsed: 00:00:08\n"
          ],
          "name": "stderr"
        },
        {
          "output_type": "stream",
          "text": [
            "Finished Epoch 8 || Run Time:    8.9 | Load Time:    0.1 || F1:  23.26 | Prec:  13.16 | Rec: 100.00 || Ex/s:   9.61\n",
            "\n",
            "* Best F1: tensor(23.2558)\n",
            "Saving best model...\n",
            "Done.\n",
            "---------------------\n",
            "\n",
            "===>  TRAIN Epoch 9\n"
          ],
          "name": "stdout"
        },
        {
          "output_type": "stream",
          "text": [
            "0% [███] 100% | ETA: 00:00:00\n",
            "Total time elapsed: 00:01:16\n"
          ],
          "name": "stderr"
        },
        {
          "output_type": "stream",
          "text": [
            "Finished Epoch 9 || Run Time:   89.5 | Load Time:    0.5 || F1:  22.58 | Prec:  12.73 | Rec: 100.00 || Ex/s:   2.91\n",
            "\n",
            "===>  EVAL Epoch 9\n"
          ],
          "name": "stdout"
        },
        {
          "output_type": "stream",
          "text": [
            "0% [█] 100% | ETA: 00:00:00\n",
            "Total time elapsed: 00:00:08\n"
          ],
          "name": "stderr"
        },
        {
          "output_type": "stream",
          "text": [
            "Finished Epoch 9 || Run Time:    9.3 | Load Time:    0.2 || F1:  27.03 | Prec:  15.62 | Rec: 100.00 || Ex/s:   9.16\n",
            "\n",
            "* Best F1: tensor(27.0270)\n",
            "Saving best model...\n",
            "Done.\n",
            "---------------------\n",
            "\n",
            "===>  TRAIN Epoch 10\n"
          ],
          "name": "stdout"
        },
        {
          "output_type": "stream",
          "text": [
            "0% [███] 100% | ETA: 00:00:00\n",
            "Total time elapsed: 00:01:13\n"
          ],
          "name": "stderr"
        },
        {
          "output_type": "stream",
          "text": [
            "Finished Epoch 10 || Run Time:   85.3 | Load Time:    0.5 || F1:  26.17 | Prec:  15.05 | Rec: 100.00 || Ex/s:   3.05\n",
            "\n",
            "===>  EVAL Epoch 10\n"
          ],
          "name": "stdout"
        },
        {
          "output_type": "stream",
          "text": [
            "0% [█] 100% | ETA: 00:00:00\n",
            "Total time elapsed: 00:00:08\n"
          ],
          "name": "stderr"
        },
        {
          "output_type": "stream",
          "text": [
            "Finished Epoch 10 || Run Time:    8.8 | Load Time:    0.1 || F1:  30.30 | Prec:  17.86 | Rec: 100.00 || Ex/s:   9.73\n",
            "\n",
            "* Best F1: tensor(30.3030)\n",
            "Saving best model...\n",
            "Done.\n",
            "---------------------\n",
            "\n",
            "Loading best model...\n",
            "Training done.\n"
          ],
          "name": "stdout"
        },
        {
          "output_type": "execute_result",
          "data": {
            "text/plain": [
              "tensor(30.3030)"
            ]
          },
          "metadata": {
            "tags": []
          },
          "execution_count": 6
        }
      ]
    },
    {
      "cell_type": "code",
      "metadata": {
        "colab": {
          "base_uri": "https://localhost:8080/"
        },
        "id": "WhdAyaBxRjcZ",
        "outputId": "27c368d1-1909-41e2-acc5-853aebe02dcd"
      },
      "source": [
        "unlabeled = dm.data.process_unlabeled(\r\n",
        "    path='unlabeled.csv',\r\n",
        "    trained_model=model)"
      ],
      "execution_count": 7,
      "outputs": [
        {
          "output_type": "stream",
          "text": [
            "\n",
            "Reading and processing data from \"unlabeled.csv\"\n",
            "0% [##########      ] 100% | ETA: 00:00:00"
          ],
          "name": "stderr"
        }
      ]
    },
    {
      "cell_type": "code",
      "metadata": {
        "colab": {
          "base_uri": "https://localhost:8080/",
          "height": 286
        },
        "id": "OxvMTtQLRnye",
        "outputId": "5ca7a6a8-9a0d-4a6a-e683-61e81b81acdb"
      },
      "source": [
        "predictions = model.run_prediction(unlabeled)\r\n",
        "predictions.head()"
      ],
      "execution_count": 8,
      "outputs": [
        {
          "output_type": "stream",
          "text": [
            "===>  PREDICT Epoch 10\n",
            "Finished Epoch 10 || Run Time:    1.0 | Load Time:    0.0 || F1:   0.00 | Prec:   0.00 | Rec:   0.00 || Ex/s:   0.00\n",
            "\n"
          ],
          "name": "stdout"
        },
        {
          "output_type": "execute_result",
          "data": {
            "text/html": [
              "<div>\n",
              "<style scoped>\n",
              "    .dataframe tbody tr th:only-of-type {\n",
              "        vertical-align: middle;\n",
              "    }\n",
              "\n",
              "    .dataframe tbody tr th {\n",
              "        vertical-align: top;\n",
              "    }\n",
              "\n",
              "    .dataframe thead th {\n",
              "        text-align: right;\n",
              "    }\n",
              "</style>\n",
              "<table border=\"1\" class=\"dataframe\">\n",
              "  <thead>\n",
              "    <tr style=\"text-align: right;\">\n",
              "      <th></th>\n",
              "      <th>match_score</th>\n",
              "    </tr>\n",
              "    <tr>\n",
              "      <th>_id</th>\n",
              "      <th></th>\n",
              "    </tr>\n",
              "  </thead>\n",
              "  <tbody>\n",
              "    <tr>\n",
              "      <th>31</th>\n",
              "      <td>0.648544</td>\n",
              "    </tr>\n",
              "    <tr>\n",
              "      <th>155</th>\n",
              "      <td>0.937636</td>\n",
              "    </tr>\n",
              "    <tr>\n",
              "      <th>331</th>\n",
              "      <td>0.479331</td>\n",
              "    </tr>\n",
              "    <tr>\n",
              "      <th>274</th>\n",
              "      <td>0.907262</td>\n",
              "    </tr>\n",
              "    <tr>\n",
              "      <th>65</th>\n",
              "      <td>0.444842</td>\n",
              "    </tr>\n",
              "  </tbody>\n",
              "</table>\n",
              "</div>"
            ],
            "text/plain": [
              "     match_score\n",
              "_id             \n",
              "31      0.648544\n",
              "155     0.937636\n",
              "331     0.479331\n",
              "274     0.907262\n",
              "65      0.444842"
            ]
          },
          "metadata": {
            "tags": []
          },
          "execution_count": 8
        }
      ]
    },
    {
      "cell_type": "code",
      "metadata": {
        "colab": {
          "base_uri": "https://localhost:8080/",
          "height": 561
        },
        "id": "NTrIKkaiRqPI",
        "outputId": "232e9f26-5ff3-4d19-8069-8c4359fe9100"
      },
      "source": [
        "predictions = model.run_prediction(unlabeled, output_attributes=True)\r\n",
        "predictions.head()"
      ],
      "execution_count": 9,
      "outputs": [
        {
          "output_type": "stream",
          "text": [
            "===>  PREDICT Epoch 10\n",
            "Finished Epoch 10 || Run Time:    1.0 | Load Time:    0.0 || F1:   0.00 | Prec:   0.00 | Rec:   0.00 || Ex/s:   0.00\n",
            "\n"
          ],
          "name": "stdout"
        },
        {
          "output_type": "execute_result",
          "data": {
            "text/html": [
              "<div>\n",
              "<style scoped>\n",
              "    .dataframe tbody tr th:only-of-type {\n",
              "        vertical-align: middle;\n",
              "    }\n",
              "\n",
              "    .dataframe tbody tr th {\n",
              "        vertical-align: top;\n",
              "    }\n",
              "\n",
              "    .dataframe thead th {\n",
              "        text-align: right;\n",
              "    }\n",
              "</style>\n",
              "<table border=\"1\" class=\"dataframe\">\n",
              "  <thead>\n",
              "    <tr style=\"text-align: right;\">\n",
              "      <th></th>\n",
              "      <th>match_score</th>\n",
              "      <th>ltable_id</th>\n",
              "      <th>rtable_id</th>\n",
              "      <th>ltable_produk_name</th>\n",
              "      <th>ltable_produk_harga</th>\n",
              "      <th>ltable_produk_satuan</th>\n",
              "      <th>ltable_deskripsi</th>\n",
              "      <th>ltable_indikasi</th>\n",
              "      <th>ltable_komposisi</th>\n",
              "      <th>ltable_dosis</th>\n",
              "      <th>rtable_produk_name</th>\n",
              "      <th>rtable_produk_harga</th>\n",
              "      <th>rtable_produk_satuan</th>\n",
              "      <th>rtable_deskripsi</th>\n",
              "      <th>rtable_indikasi</th>\n",
              "      <th>rtable_komposisi</th>\n",
              "      <th>rtable_dosis</th>\n",
              "    </tr>\n",
              "    <tr>\n",
              "      <th>_id</th>\n",
              "      <th></th>\n",
              "      <th></th>\n",
              "      <th></th>\n",
              "      <th></th>\n",
              "      <th></th>\n",
              "      <th></th>\n",
              "      <th></th>\n",
              "      <th></th>\n",
              "      <th></th>\n",
              "      <th></th>\n",
              "      <th></th>\n",
              "      <th></th>\n",
              "      <th></th>\n",
              "      <th></th>\n",
              "      <th></th>\n",
              "      <th></th>\n",
              "      <th></th>\n",
              "    </tr>\n",
              "  </thead>\n",
              "  <tbody>\n",
              "    <tr>\n",
              "      <th>31</th>\n",
              "      <td>0.648544</td>\n",
              "      <td>78</td>\n",
              "      <td>11</td>\n",
              "      <td>OBH Combi Batuk Plus Flu Menthol 60 ml</td>\n",
              "      <td>Rp 13,500</td>\n",
              "      <td>Botol</td>\n",
              "      <td>Obh combi adalah obat minum dalam bentuk sirup...</td>\n",
              "      <td>Meredakan batuk yang disertai gejala-gejala fl...</td>\n",
              "      <td>Succus liquiritiae 167 mg/5ml, paracetamol 150...</td>\n",
              "      <td>NaN</td>\n",
              "      <td>OBH COMBI DEWASA BATUK FLU MADU 60ML</td>\n",
              "      <td>Rp 13.979</td>\n",
              "      <td>Botol</td>\n",
              "      <td>OBH Combi batuk flu merupakan obat batuk pilek...</td>\n",
              "      <td>meredakan batuk yang disertai gejala-gejala fl...</td>\n",
              "      <td>succus Liquiritiae Extract 167 mg, Paracetamol...</td>\n",
              "      <td>&gt; 12 thn : sehari, 3 x 3 sendok takar (@ 5 ml)</td>\n",
              "    </tr>\n",
              "    <tr>\n",
              "      <th>155</th>\n",
              "      <td>0.937636</td>\n",
              "      <td>38</td>\n",
              "      <td>57</td>\n",
              "      <td>Decadryl Exp 120 ml</td>\n",
              "      <td>Rp 17,700</td>\n",
              "      <td>Botol</td>\n",
              "      <td>Decadryl exp merupakan obat untuk batuk berdah...</td>\n",
              "      <td>Batuk berdahak karena alergi</td>\n",
              "      <td>Diphenhydramine 13.5 mg/5ml, ammonium chloride...</td>\n",
              "      <td>NaN</td>\n",
              "      <td>DECADRYL EXP SYR 120ML</td>\n",
              "      <td>Rp 21.357</td>\n",
              "      <td>Botol</td>\n",
              "      <td>Sirup obat batuk pilek yang juga dapat membant...</td>\n",
              "      <td>Untuk meringankan batuk berdahak karena alergi</td>\n",
              "      <td>Tiap 5 ml : Diprenhidramin HCL 13,5 mg, amoniu...</td>\n",
              "      <td>Dewasa : 1-2 Sendok takar tiap 3 jam, tidak bo...</td>\n",
              "    </tr>\n",
              "    <tr>\n",
              "      <th>331</th>\n",
              "      <td>0.479331</td>\n",
              "      <td>63</td>\n",
              "      <td>109</td>\n",
              "      <td>Mucopect 30 mg Tab 100'S</td>\n",
              "      <td>Rp 4,600</td>\n",
              "      <td>Tablet</td>\n",
              "      <td>Mucopect mengandung ambroxol yang diindikasika...</td>\n",
              "      <td>Infeksi saluran nafas akut, bronkhitis, asma b...</td>\n",
              "      <td>Ambroxol 30 mg</td>\n",
              "      <td>NaN</td>\n",
              "      <td>CIPROFLOXACIN HEXPHARM 500MG TAB 100S</td>\n",
              "      <td>Rp 673</td>\n",
              "      <td>Tablet</td>\n",
              "      <td>CIPROFLOXACIN HEXPHARM 500MG TAB merupakan ant...</td>\n",
              "      <td>Infeksi saluran kemih, infeksi saluran pernafa...</td>\n",
              "      <td>Ciprofloxacin 500 mg</td>\n",
              "      <td>Infeksi Saluran Kemih (ISK): Ringan - sedang 2...</td>\n",
              "    </tr>\n",
              "    <tr>\n",
              "      <th>274</th>\n",
              "      <td>0.907262</td>\n",
              "      <td>59</td>\n",
              "      <td>94</td>\n",
              "      <td>Mucera Drop</td>\n",
              "      <td>Rp 48,800</td>\n",
              "      <td>Botol</td>\n",
              "      <td>Mucera drop adalah obat batuk berdahak yang te...</td>\n",
              "      <td>Infeksi saluran nafas akut, bronkhitis, asma b...</td>\n",
              "      <td>Ambroxol 15 mg/ml</td>\n",
              "      <td>NaN</td>\n",
              "      <td>MUCERA DROP 15MG/1ML 15ML</td>\n",
              "      <td>Rp 54.078</td>\n",
              "      <td>Botol</td>\n",
              "      <td>Mucera diproduksi oleh PT Otto Pharmaceuticasl...</td>\n",
              "      <td>Penyakit saluran nafas akut dan kronis diserta...</td>\n",
              "      <td>Ambroxol HCl 15 mg/ml drop</td>\n",
              "      <td>anak 6-12 tahun: 2-3 x sehari 1 ml drops; anak...</td>\n",
              "    </tr>\n",
              "    <tr>\n",
              "      <th>65</th>\n",
              "      <td>0.444842</td>\n",
              "      <td>27</td>\n",
              "      <td>27</td>\n",
              "      <td>Bisolvon Batuk &amp; Flu 60 ml</td>\n",
              "      <td>Rp 43,800</td>\n",
              "      <td>Botol</td>\n",
              "      <td>Bisolvon adalah obat yang digunakan untuk meng...</td>\n",
              "      <td>Meredakan batuk berdahak</td>\n",
              "      <td>Bromhexine 4 mg, phenylephrine 5 mg, paracetam...</td>\n",
              "      <td>NaN</td>\n",
              "      <td>OBH COMBI ANAK BATUK FLU RASA APEL 60ML</td>\n",
              "      <td>Rp 15.840</td>\n",
              "      <td>Botol</td>\n",
              "      <td>Obat batuk pilek dan demam untuk anak dengan r...</td>\n",
              "      <td>Meredakan batuk yang disertai gejala-gejala fl...</td>\n",
              "      <td>succus Liquiritiae 100 mg, Paracetamol 120 mg,...</td>\n",
              "      <td>Umur 2-5 thn : 3 x sehari 1 sendok takar (@ 5 ml)</td>\n",
              "    </tr>\n",
              "  </tbody>\n",
              "</table>\n",
              "</div>"
            ],
            "text/plain": [
              "     match_score  ...                                       rtable_dosis\n",
              "_id               ...                                                   \n",
              "31      0.648544  ...     > 12 thn : sehari, 3 x 3 sendok takar (@ 5 ml)\n",
              "155     0.937636  ...  Dewasa : 1-2 Sendok takar tiap 3 jam, tidak bo...\n",
              "331     0.479331  ...  Infeksi Saluran Kemih (ISK): Ringan - sedang 2...\n",
              "274     0.907262  ...  anak 6-12 tahun: 2-3 x sehari 1 ml drops; anak...\n",
              "65      0.444842  ...  Umur 2-5 thn : 3 x sehari 1 sendok takar (@ 5 ml)\n",
              "\n",
              "[5 rows x 17 columns]"
            ]
          },
          "metadata": {
            "tags": []
          },
          "execution_count": 9
        }
      ]
    },
    {
      "cell_type": "code",
      "metadata": {
        "colab": {
          "base_uri": "https://localhost:8080/",
          "height": 428
        },
        "id": "NBqtSZyHSDiy",
        "outputId": "ab7070a1-f494-4308-f715-f680d26a0800"
      },
      "source": [
        "high_score_pairs = predictions[predictions['match_score'] >= 0.9].sort_values(by=['match_score'], ascending=False)\r\n",
        "high_score_pairs.head()"
      ],
      "execution_count": 10,
      "outputs": [
        {
          "output_type": "execute_result",
          "data": {
            "text/html": [
              "<div>\n",
              "<style scoped>\n",
              "    .dataframe tbody tr th:only-of-type {\n",
              "        vertical-align: middle;\n",
              "    }\n",
              "\n",
              "    .dataframe tbody tr th {\n",
              "        vertical-align: top;\n",
              "    }\n",
              "\n",
              "    .dataframe thead th {\n",
              "        text-align: right;\n",
              "    }\n",
              "</style>\n",
              "<table border=\"1\" class=\"dataframe\">\n",
              "  <thead>\n",
              "    <tr style=\"text-align: right;\">\n",
              "      <th></th>\n",
              "      <th>match_score</th>\n",
              "      <th>ltable_id</th>\n",
              "      <th>rtable_id</th>\n",
              "      <th>ltable_produk_name</th>\n",
              "      <th>ltable_produk_harga</th>\n",
              "      <th>ltable_produk_satuan</th>\n",
              "      <th>ltable_deskripsi</th>\n",
              "      <th>ltable_indikasi</th>\n",
              "      <th>ltable_komposisi</th>\n",
              "      <th>ltable_dosis</th>\n",
              "      <th>rtable_produk_name</th>\n",
              "      <th>rtable_produk_harga</th>\n",
              "      <th>rtable_produk_satuan</th>\n",
              "      <th>rtable_deskripsi</th>\n",
              "      <th>rtable_indikasi</th>\n",
              "      <th>rtable_komposisi</th>\n",
              "      <th>rtable_dosis</th>\n",
              "    </tr>\n",
              "    <tr>\n",
              "      <th>_id</th>\n",
              "      <th></th>\n",
              "      <th></th>\n",
              "      <th></th>\n",
              "      <th></th>\n",
              "      <th></th>\n",
              "      <th></th>\n",
              "      <th></th>\n",
              "      <th></th>\n",
              "      <th></th>\n",
              "      <th></th>\n",
              "      <th></th>\n",
              "      <th></th>\n",
              "      <th></th>\n",
              "      <th></th>\n",
              "      <th></th>\n",
              "      <th></th>\n",
              "      <th></th>\n",
              "    </tr>\n",
              "  </thead>\n",
              "  <tbody>\n",
              "    <tr>\n",
              "      <th>21</th>\n",
              "      <td>0.977404</td>\n",
              "      <td>80</td>\n",
              "      <td>10</td>\n",
              "      <td>OBH Combi Flu Jahe 60 ml New</td>\n",
              "      <td>Rp 13,500</td>\n",
              "      <td>Botol</td>\n",
              "      <td>Obh combi adalah obat minum dalam bentuk sirup...</td>\n",
              "      <td>Meredakan batuk yang disertai gejala-gejala fl...</td>\n",
              "      <td>Succus liquiritiae 167 mg/5ml, paracetamol 150...</td>\n",
              "      <td>NaN</td>\n",
              "      <td>OBH COMBI DEWASA BATUK FLU JAHE 60ML</td>\n",
              "      <td>Rp 13.867</td>\n",
              "      <td>Botol</td>\n",
              "      <td>OBH Combi batuk flu merupakan obat batuk pilek...</td>\n",
              "      <td>meredakan batuk yang disertai gejala-gejala fl...</td>\n",
              "      <td>succus Liquiritiae Extract 167 mg, Paracetamol...</td>\n",
              "      <td>Dewasa dan anak &gt;12 thn : 3 kali sehari 3 send...</td>\n",
              "    </tr>\n",
              "    <tr>\n",
              "      <th>155</th>\n",
              "      <td>0.937636</td>\n",
              "      <td>38</td>\n",
              "      <td>57</td>\n",
              "      <td>Decadryl Exp 120 ml</td>\n",
              "      <td>Rp 17,700</td>\n",
              "      <td>Botol</td>\n",
              "      <td>Decadryl exp merupakan obat untuk batuk berdah...</td>\n",
              "      <td>Batuk berdahak karena alergi</td>\n",
              "      <td>Diphenhydramine 13.5 mg/5ml, ammonium chloride...</td>\n",
              "      <td>NaN</td>\n",
              "      <td>DECADRYL EXP SYR 120ML</td>\n",
              "      <td>Rp 21.357</td>\n",
              "      <td>Botol</td>\n",
              "      <td>Sirup obat batuk pilek yang juga dapat membant...</td>\n",
              "      <td>Untuk meringankan batuk berdahak karena alergi</td>\n",
              "      <td>Tiap 5 ml : Diprenhidramin HCL 13,5 mg, amoniu...</td>\n",
              "      <td>Dewasa : 1-2 Sendok takar tiap 3 jam, tidak bo...</td>\n",
              "    </tr>\n",
              "    <tr>\n",
              "      <th>334</th>\n",
              "      <td>0.929496</td>\n",
              "      <td>148</td>\n",
              "      <td>110</td>\n",
              "      <td>Ciprofloxacin 500 mg Tab Hexp</td>\n",
              "      <td>Rp 600</td>\n",
              "      <td>tablet</td>\n",
              "      <td>Ciprofloxacin adalah obat yang masuk dalam kat...</td>\n",
              "      <td>Infeksi saluran pernafasan, infeksi jaringan l...</td>\n",
              "      <td>Ciprofloxacin 500 mg</td>\n",
              "      <td>NaN</td>\n",
              "      <td>CIPROFLOXACIN HEXPHARM 500MG TAB 50S</td>\n",
              "      <td>Rp 1.326</td>\n",
              "      <td>Tablet</td>\n",
              "      <td>CIPROFLOXACIN HEXPHARM 500MG TAB berfungsi unt...</td>\n",
              "      <td>Infeksi saluran kemih, infeksi saluran pernafa...</td>\n",
              "      <td>Ciprofloxacin 500 mg</td>\n",
              "      <td>Infeksi Saluran Kemih (ISK): Ringan - sedang 2...</td>\n",
              "    </tr>\n",
              "    <tr>\n",
              "      <th>274</th>\n",
              "      <td>0.907262</td>\n",
              "      <td>59</td>\n",
              "      <td>94</td>\n",
              "      <td>Mucera Drop</td>\n",
              "      <td>Rp 48,800</td>\n",
              "      <td>Botol</td>\n",
              "      <td>Mucera drop adalah obat batuk berdahak yang te...</td>\n",
              "      <td>Infeksi saluran nafas akut, bronkhitis, asma b...</td>\n",
              "      <td>Ambroxol 15 mg/ml</td>\n",
              "      <td>NaN</td>\n",
              "      <td>MUCERA DROP 15MG/1ML 15ML</td>\n",
              "      <td>Rp 54.078</td>\n",
              "      <td>Botol</td>\n",
              "      <td>Mucera diproduksi oleh PT Otto Pharmaceuticasl...</td>\n",
              "      <td>Penyakit saluran nafas akut dan kronis diserta...</td>\n",
              "      <td>Ambroxol HCl 15 mg/ml drop</td>\n",
              "      <td>anak 6-12 tahun: 2-3 x sehari 1 ml drops; anak...</td>\n",
              "    </tr>\n",
              "  </tbody>\n",
              "</table>\n",
              "</div>"
            ],
            "text/plain": [
              "     match_score  ...                                       rtable_dosis\n",
              "_id               ...                                                   \n",
              "21      0.977404  ...  Dewasa dan anak >12 thn : 3 kali sehari 3 send...\n",
              "155     0.937636  ...  Dewasa : 1-2 Sendok takar tiap 3 jam, tidak bo...\n",
              "334     0.929496  ...  Infeksi Saluran Kemih (ISK): Ringan - sedang 2...\n",
              "274     0.907262  ...  anak 6-12 tahun: 2-3 x sehari 1 ml drops; anak...\n",
              "\n",
              "[4 rows x 17 columns]"
            ]
          },
          "metadata": {
            "tags": []
          },
          "execution_count": 10
        }
      ]
    },
    {
      "cell_type": "code",
      "metadata": {
        "id": "MFOMJi_oSQ42"
      },
      "source": [
        "predictions.to_csv('unlabeled_predictions.csv')"
      ],
      "execution_count": 11,
      "outputs": []
    }
  ]
}